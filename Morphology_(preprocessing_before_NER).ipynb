{
  "nbformat": 4,
  "nbformat_minor": 0,
  "metadata": {
    "colab": {
      "name": "Morphology (preprocessing_before_NER)",
      "provenance": [],
      "authorship_tag": "ABX9TyPSufwySOAp2bo+/SuONitV",
      "include_colab_link": true
    },
    "kernelspec": {
      "name": "python3",
      "display_name": "Python 3"
    }
  },
  "cells": [
    {
      "cell_type": "markdown",
      "metadata": {
        "id": "view-in-github",
        "colab_type": "text"
      },
      "source": [
        "<a href=\"https://colab.research.google.com/github/sriloksagar/Intern_ND/blob/master/Morphology_(preprocessing_before_NER).ipynb\" target=\"_parent\"><img src=\"https://colab.research.google.com/assets/colab-badge.svg\" alt=\"Open In Colab\"/></a>"
      ]
    },
    {
      "cell_type": "code",
      "metadata": {
        "id": "3zc-BtNYwRy8",
        "colab_type": "code",
        "outputId": "0259c971-c4c9-4a21-aeb4-828a3028d45f",
        "colab": {
          "base_uri": "https://localhost:8080/",
          "height": 34
        }
      },
      "source": [
        "from google.colab import drive\n",
        "drive.mount('/content/drive/',force_remount=True)"
      ],
      "execution_count": 312,
      "outputs": [
        {
          "output_type": "stream",
          "text": [
            "Mounted at /content/drive/\n"
          ],
          "name": "stdout"
        }
      ]
    },
    {
      "cell_type": "markdown",
      "metadata": {
        "id": "E_Fxju0x8i5B",
        "colab_type": "text"
      },
      "source": [
        "**Importing libraries**"
      ]
    },
    {
      "cell_type": "code",
      "metadata": {
        "id": "XPOjm6cAtn7L",
        "colab_type": "code",
        "colab": {}
      },
      "source": [
        "import cv2\n",
        "import numpy as np\n",
        "import matplotlib.pyplot as plt\n",
        "from skimage.io import imread"
      ],
      "execution_count": 0,
      "outputs": []
    },
    {
      "cell_type": "markdown",
      "metadata": {
        "id": "4Qojehb48mGf",
        "colab_type": "text"
      },
      "source": [
        "**Reading images**"
      ]
    },
    {
      "cell_type": "code",
      "metadata": {
        "id": "jwu52jKY2W4b",
        "colab_type": "code",
        "outputId": "8f71a692-0731-4fbc-d53a-b622c7e03302",
        "colab": {
          "base_uri": "https://localhost:8080/",
          "height": 286
        }
      },
      "source": [
        "img = imread('/content/drive/My Drive/Colab Notebooks/Intern_ND/sample_invoice.jpeg')\n",
        "plt.imshow(np.real(img))"
      ],
      "execution_count": 314,
      "outputs": [
        {
          "output_type": "execute_result",
          "data": {
            "text/plain": [
              "<matplotlib.image.AxesImage at 0x7fc20c884a90>"
            ]
          },
          "metadata": {
            "tags": []
          },
          "execution_count": 314
        },
        {
          "output_type": "display_data",
          "data": {
            "image/png": "[encoded data removed]",
            "text/plain": [
              "<Figure size 432x288 with 1 Axes>"
            ]
          },
          "metadata": {
            "tags": []
          }
        }
      ]
    },
    {
      "cell_type": "markdown",
      "metadata": {
        "id": "jGqLV9js8qzb",
        "colab_type": "text"
      },
      "source": [
        "**Converting to Grayscale**"
      ]
    },
    {
      "cell_type": "code",
      "metadata": {
        "id": "xoy0vU7dw7dH",
        "colab_type": "code",
        "outputId": "751286bd-7dbe-43bf-c867-b710f9dbdf69",
        "colab": {
          "base_uri": "https://localhost:8080/",
          "height": 286
        }
      },
      "source": [
        "result = img.copy()\n",
        "gray = cv2.cvtColor(img,cv2.COLOR_BGR2GRAY)\n",
        "thresh = cv2.threshold(gray,0,255, cv2.THRESH_BINARY_INV + cv2.THRESH_OTSU)[1]\n",
        "plt.imshow(thresh,'gray')"
      ],
      "execution_count": 315,
      "outputs": [
        {
          "output_type": "execute_result",
          "data": {
            "text/plain": [
              "<matplotlib.image.AxesImage at 0x7fc20c7ee0f0>"
            ]
          },
          "metadata": {
            "tags": []
          },
          "execution_count": 315
        },
        {
          "output_type": "display_data",
          "data": {
            "image/png": "[encoded data removed]",
            "text/plain": [
              "<Figure size 432x288 with 1 Axes>"
            ]
          },
          "metadata": {
            "tags": []
          }
        }
      ]
    },
    {
      "cell_type": "code",
      "metadata": {
        "id": "PCbY2tYyxlsI",
        "colab_type": "code",
        "outputId": "b863d84d-32a0-469a-89f8-24b381835c23",
        "colab": {
          "base_uri": "https://localhost:8080/",
          "height": 286
        }
      },
      "source": [
        "horizantal_kernel = cv2.getStructuringElement(cv2.MORPH_RECT,(75,1))\n",
        "remove_horizantal = cv2.morphologyEx(thresh,cv2.MORPH_OPEN,horizantal_kernel,iterations=2)\n",
        "cnts = cv2.findContours(remove_horizantal,cv2.RETR_EXTERNAL,cv2.CHAIN_APPROX_SIMPLE)\n",
        "cnts = cnts[0] if len(cnts) == 2 else cnts[1]\n",
        "for c in cnts:\n",
        "    cv2.drawContours(result,[c],-1,(255,255,255), 2)\n",
        "plt.imshow(result,'gray')"
      ],
      "execution_count": 316,
      "outputs": [
        {
          "output_type": "execute_result",
          "data": {
            "text/plain": [
              "<matplotlib.image.AxesImage at 0x7fc20c7459b0>"
            ]
          },
          "metadata": {
            "tags": []
          },
          "execution_count": 316
        },
        {
          "output_type": "display_data",
          "data": {
            "image/png": "[encoded data removed]",
            "text/plain": [
              "<Figure size 432x288 with 1 Axes>"
            ]
          },
          "metadata": {
            "tags": []
          }
        }
      ]
    },
    {
      "cell_type": "code",
      "metadata": {
        "id": "h9UZt5Ap4CJM",
        "colab_type": "code",
        "outputId": "040e5ce9-cddc-4b21-ac06-07ef65da75a2",
        "colab": {
          "base_uri": "https://localhost:8080/",
          "height": 286
        }
      },
      "source": [
        "vertical_kernel = cv2.getStructuringElement(cv2.MORPH_RECT,(1,50))\n",
        "remove_vertical = cv2.morphologyEx(thresh,cv2.MORPH_OPEN,vertical_kernel,iterations=2)\n",
        "cnts = cv2.findContours(remove_vertical,cv2.RETR_EXTERNAL,cv2.CHAIN_APPROX_SIMPLE)\n",
        "cnts = cnts[0] if len(cnts) == 2 else cnts[1]\n",
        "for c in cnts:\n",
        "    cv2.drawContours(result,[c],-1,(255,255,255), 2)\n",
        "plt.imshow(result,'gray')"
      ],
      "execution_count": 317,
      "outputs": [
        {
          "output_type": "execute_result",
          "data": {
            "text/plain": [
              "<matplotlib.image.AxesImage at 0x7fc20c726b38>"
            ]
          },
          "metadata": {
            "tags": []
          },
          "execution_count": 317
        },
        {
          "output_type": "display_data",
          "data": {
            "image/png": "[encoded data removed]",
            "text/plain": [
              "<Figure size 432x288 with 1 Axes>"
            ]
          },
          "metadata": {
            "tags": []
          }
        }
      ]
    },
    {
      "cell_type": "code",
      "metadata": {
        "id": "WEKiZ7y568PL",
        "colab_type": "code",
        "outputId": "f4ebb038-4baa-43b5-ba00-2d1470d5f9cf",
        "colab": {
          "base_uri": "https://localhost:8080/",
          "height": 34
        }
      },
      "source": [
        "cv2.imwrite('/content/drive/My Drive/Colab Notebooks/Intern_ND/sample_invoice_new.jpeg',result)\n",
        "cv2.waitKey()"
      ],
      "execution_count": 318,
      "outputs": [
        {
          "output_type": "execute_result",
          "data": {
            "text/plain": [
              "-1"
            ]
          },
          "metadata": {
            "tags": []
          },
          "execution_count": 318
        }
      ]
    },
    {
      "cell_type": "code",
      "metadata": {
        "id": "uMCVfviWPi30",
        "colab_type": "code",
        "colab": {}
      },
      "source": [
        ""
      ],
      "execution_count": 0,
      "outputs": []
    }
  ]
}