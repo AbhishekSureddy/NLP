{
 "cells": [
  {
   "cell_type": "code",
   "execution_count": 2,
   "metadata": {},
   "outputs": [
    {
     "name": "stderr",
     "output_type": "stream",
     "text": [
      "ERROR: Could not find a version that satisfies the requirement upgrade (from versions: none)\n",
      "ERROR: No matching distribution found for upgrade\n"
     ]
    }
   ],
   "source": [
    "!pip install upgrade pip"
   ]
  },
  {
   "cell_type": "code",
   "execution_count": 3,
   "metadata": {},
   "outputs": [],
   "source": [
    "import cv2\n",
    "import numpy as np\n",
    "import matplotlib.pyplot as plt\n",
    "%matplotlib inline\n",
    "from scipy import ndimage\n",
    "import os"
   ]
  },
  {
   "cell_type": "code",
   "execution_count": 74,
   "metadata": {},
   "outputs": [
    {
     "data": {
      "text/plain": [
       "<matplotlib.image.AxesImage at 0x16b050d4198>"
      ]
     },
     "execution_count": 74,
     "metadata": {},
     "output_type": "execute_result"
    },
    {
     "data": {
      "image/png": "[encoded data removed]",
      "text/plain": [
       "<Figure size 432x288 with 1 Axes>"
      ]
     },
     "metadata": {},
     "output_type": "display_data"
    }
   ],
   "source": [
    "img=cv2.imread(r\"C:\\Users\\sriloksagar\\Dropbox\\Intern_ND\\EB_July2019.jpg\")\n",
    "image=cv2.cvtColor(img,cv2.COLOR_BGR2GRAY)\n",
    "box_image=image[100:1100,100:1600]\n",
    "plt.imshow(box_image,'gray')"
   ]
  },
  {
   "cell_type": "code",
   "execution_count": 65,
   "metadata": {},
   "outputs": [
    {
     "data": {
      "text/plain": [
       "(800, 1450)"
      ]
     },
     "execution_count": 65,
     "metadata": {},
     "output_type": "execute_result"
    }
   ],
   "source": [
    "box_image.shape"
   ]
  },
  {
   "cell_type": "code",
   "execution_count": 75,
   "metadata": {},
   "outputs": [
    {
     "data": {
      "text/plain": [
       "<matplotlib.image.AxesImage at 0x16b04e57f28>"
      ]
     },
     "execution_count": 75,
     "metadata": {},
     "output_type": "execute_result"
    },
    {
     "data": {
      "image/png": "[encoded data removed]",
      "text/plain": [
       "<Figure size 432x288 with 1 Axes>"
      ]
     },
     "metadata": {},
     "output_type": "display_data"
    }
   ],
   "source": [
    "box_image_r=box_image.reshape(box_image.shape[0]*box_image.shape[1])\n",
    "for i in range(box_image.shape[0]):\n",
    "    if box_image_r[i]>box_image_r.mean():\n",
    "        box_image_r[i]=1\n",
    "    else:\n",
    "        box_image_r[i]=0\n",
    "        \n",
    "box_image=box_image_r.reshape(box_image.shape[0],box_image.shape[1])\n",
    "plt.imshow(box_image,'gray')\n",
    "    "
   ]
  },
  {
   "cell_type": "markdown",
   "metadata": {},
   "source": [
    "EXTRACTING USING TESSERACT"
   ]
  },
  {
   "cell_type": "code",
   "execution_count": 76,
   "metadata": {},
   "outputs": [
    {
     "name": "stdout",
     "output_type": "stream",
     "text": [
      "Requirement already satisfied: tesseract in c:\\srilok\\softwares\\python_3.6\\lib\\site-packages (0.1.3)\n"
     ]
    }
   ],
   "source": [
    "!pip install tesseract"
   ]
  },
  {
   "cell_type": "code",
   "execution_count": 77,
   "metadata": {},
   "outputs": [],
   "source": [
    "from PIL import Image\n",
    "import pytesseract"
   ]
  },
  {
   "cell_type": "code",
   "execution_count": 78,
   "metadata": {},
   "outputs": [],
   "source": [
    "column = Image.open(r\"C:\\Users\\sriloksagar\\Dropbox\\Intern_ND\\EB_July2019.jpg\")"
   ]
  },
  {
   "cell_type": "code",
   "execution_count": 79,
   "metadata": {},
   "outputs": [],
   "source": [
    "pytesseract.pytesseract.tesseract_cmd = r\"C:\\Program Files\\Tesseract-OCR\\tesseract.exe\""
   ]
  },
  {
   "cell_type": "code",
   "execution_count": 82,
   "metadata": {},
   "outputs": [
    {
     "name": "stdout",
     "output_type": "stream",
     "text": [
      "Tamilnadu Generation and Distribution Corporation Limited\n",
      "E-Receipt cum ASD Intimation Notice\n",
      "\n",
      "GIBU KURIAN\n",
      "Service No: 09288020442 Name: MATHEW\n",
      "Bill Amount: 2490 Bill Month/Year: 7/2019\n",
      "Receipt N PGNSBI7491235 Receipt Date: Monday, 1 July\n",
      "\n",
      "ecelp iO ecelp e: 2019 20:12\n",
      "Amount Debited: 2490.0 Bank == \\GAGMIJFC6\n",
      "Transaction.No:\n",
      "\n",
      "Bank Card Type: SBI NET BANKING\n",
      "\n",
      "Authorisation.Id:\n",
      "\n",
      "Already existing subsidy amount is Rs.0\n",
      "\n",
      "New subsidy for 100 free units is Rs.250\n",
      "\n",
      "Total subsidy is Rs.250\n",
      "\n",
      "Receipt issued subject to confirmation of Online payment credit in TANGEDCO's Bank account\n"
     ]
    }
   ],
   "source": [
    "text=pytesseract.image_to_string(box_image)\n",
    "print(text)"
   ]
  },
  {
   "cell_type": "code",
   "execution_count": 1,
   "metadata": {},
   "outputs": [],
   "source": [
    "import re"
   ]
  },
  {
   "cell_type": "code",
   "execution_count": 2,
   "metadata": {},
   "outputs": [
    {
     "name": "stdout",
     "output_type": "stream",
     "text": [
      "Bank Card Type\n"
     ]
    }
   ],
   "source": [
    "line = input()"
   ]
  },
  {
   "cell_type": "code",
   "execution_count": null,
   "metadata": {},
   "outputs": [],
   "source": [
    "with open(r\"C:\\Users\\sriloksagar\\Dropbox\\Intern_ND\\elec_bill\") as text:\n",
    "    for line in text:\n",
    "        match = re.search(r'Bank Card Type: ((\\W*\\S*)*\\n$)',line)\n",
    "        if match:\n",
    "            print(match.group(1))"
   ]
  },
  {
   "cell_type": "code",
   "execution_count": null,
   "metadata": {},
   "outputs": [],
   "source": []
  }
 ],
 "metadata": {
  "kernelspec": {
   "display_name": "Python 3",
   "language": "python",
   "name": "python3"
  },
  "language_info": {
   "codemirror_mode": {
    "name": "ipython",
    "version": 3
   },
   "file_extension": ".py",
   "mimetype": "text/x-python",
   "name": "python",
   "nbconvert_exporter": "python",
   "pygments_lexer": "ipython3",
   "version": "3.6.5"
  }
 },
 "nbformat": 4,
 "nbformat_minor": 2
}
