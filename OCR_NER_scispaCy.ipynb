{
  "nbformat": 4,
  "nbformat_minor": 0,
  "metadata": {
    "kernelspec": {
      "name": "python3",
      "display_name": "Python 3"
    },
    "language_info": {
      "codemirror_mode": {
        "name": "ipython",
        "version": 3
      },
      "file_extension": ".py",
      "mimetype": "text/x-python",
      "name": "python",
      "nbconvert_exporter": "python",
      "pygments_lexer": "ipython3",
      "version": "3.6.5"
    },
    "colab": {
      "name": "OCR-NER_scispaCy.ipynb",
      "provenance": [],
      "collapsed_sections": [],
      "include_colab_link": true
    },
    "accelerator": "GPU"
  },
  "cells": [
    {
      "cell_type": "markdown",
      "metadata": {
        "id": "view-in-github",
        "colab_type": "text"
      },
      "source": [
        "<a href=\"https://colab.research.google.com/github/sriloksagar/Intern_ND/blob/master/OCR_NER_scispaCy.ipynb\" target=\"_parent\"><img src=\"https://colab.research.google.com/assets/colab-badge.svg\" alt=\"Open In Colab\"/></a>"
      ]
    },
    {
      "cell_type": "markdown",
      "metadata": {
        "id": "PETrmrH8cFzx",
        "colab_type": "text"
      },
      "source": [
        "# **Generating bounding boxes and using Tesseract for OCR**"
      ]
    },
    {
      "cell_type": "markdown",
      "metadata": {
        "id": "nX29BuNBrv7V",
        "colab_type": "text"
      },
      "source": [
        "**Importing and Installing Libraries**"
      ]
    },
    {
      "cell_type": "code",
      "metadata": {
        "id": "HKzG1etSq86v",
        "colab_type": "code",
        "outputId": "f9d43978-d6a6-4385-a619-1a2831ff8854",
        "colab": {
          "base_uri": "https://localhost:8080/",
          "height": 210
        }
      },
      "source": [
        "!pip install tesseract\n",
        "!pip install pytesseract\n",
        "!sudo apt install tesseract-ocr"
      ],
      "execution_count": 0,
      "outputs": [
        {
          "output_type": "stream",
          "text": [
            "Requirement already satisfied: tesseract in /usr/local/lib/python3.6/dist-packages (0.1.3)\n",
            "Requirement already satisfied: pytesseract in /usr/local/lib/python3.6/dist-packages (0.3.2)\n",
            "Requirement already satisfied: Pillow in /usr/local/lib/python3.6/dist-packages (from pytesseract) (6.2.2)\n",
            "Reading package lists... Done\n",
            "Building dependency tree       \n",
            "Reading state information... Done\n",
            "tesseract-ocr is already the newest version (4.00~git2288-10f4998a-2).\n",
            "The following package was automatically installed and is no longer required:\n",
            "  libnvidia-common-430\n",
            "Use 'sudo apt autoremove' to remove it.\n",
            "0 upgraded, 0 newly installed, 0 to remove and 16 not upgraded.\n"
          ],
          "name": "stdout"
        }
      ]
    },
    {
      "cell_type": "code",
      "metadata": {
        "id": "1NiOGQHEqin1",
        "colab_type": "code",
        "outputId": "dfc936de-d7d1-439b-9bfa-70059772efa1",
        "colab": {
          "base_uri": "https://localhost:8080/",
          "height": 1000
        }
      },
      "source": [
        "!pip install -U spacy\n",
        "!pip install scispacy"
      ],
      "execution_count": 0,
      "outputs": [
        {
          "output_type": "stream",
          "text": [
            "Requirement already up-to-date: spacy in /usr/local/lib/python3.6/dist-packages (2.2.3)\n",
            "Requirement already satisfied, skipping upgrade: wasabi<1.1.0,>=0.4.0 in /usr/local/lib/python3.6/dist-packages (from spacy) (0.6.0)\n",
            "Requirement already satisfied, skipping upgrade: srsly<1.1.0,>=0.1.0 in /usr/local/lib/python3.6/dist-packages (from spacy) (1.0.1)\n",
            "Requirement already satisfied, skipping upgrade: setuptools in /usr/local/lib/python3.6/dist-packages (from spacy) (45.1.0)\n",
            "Requirement already satisfied, skipping upgrade: thinc<7.4.0,>=7.3.0 in /usr/local/lib/python3.6/dist-packages (from spacy) (7.3.1)\n",
            "Requirement already satisfied, skipping upgrade: preshed<3.1.0,>=3.0.2 in /usr/local/lib/python3.6/dist-packages (from spacy) (3.0.2)\n",
            "Requirement already satisfied, skipping upgrade: numpy>=1.15.0 in /usr/local/lib/python3.6/dist-packages (from spacy) (1.17.5)\n",
            "Requirement already satisfied, skipping upgrade: cymem<2.1.0,>=2.0.2 in /usr/local/lib/python3.6/dist-packages (from spacy) (2.0.3)\n",
            "Requirement already satisfied, skipping upgrade: blis<0.5.0,>=0.4.0 in /usr/local/lib/python3.6/dist-packages (from spacy) (0.4.1)\n",
            "Requirement already satisfied, skipping upgrade: catalogue<1.1.0,>=0.0.7 in /usr/local/lib/python3.6/dist-packages (from spacy) (1.0.0)\n",
            "Requirement already satisfied, skipping upgrade: murmurhash<1.1.0,>=0.28.0 in /usr/local/lib/python3.6/dist-packages (from spacy) (1.0.2)\n",
            "Requirement already satisfied, skipping upgrade: plac<1.2.0,>=0.9.6 in /usr/local/lib/python3.6/dist-packages (from spacy) (0.9.6)\n",
            "Requirement already satisfied, skipping upgrade: requests<3.0.0,>=2.13.0 in /usr/local/lib/python3.6/dist-packages (from spacy) (2.21.0)\n",
            "Requirement already satisfied, skipping upgrade: tqdm<5.0.0,>=4.10.0 in /usr/local/lib/python3.6/dist-packages (from thinc<7.4.0,>=7.3.0->spacy) (4.28.1)\n",
            "Requirement already satisfied, skipping upgrade: importlib-metadata>=0.20; python_version < \"3.8\" in /usr/local/lib/python3.6/dist-packages (from catalogue<1.1.0,>=0.0.7->spacy) (1.5.0)\n",
            "Requirement already satisfied, skipping upgrade: urllib3<1.25,>=1.21.1 in /usr/local/lib/python3.6/dist-packages (from requests<3.0.0,>=2.13.0->spacy) (1.24.3)\n",
            "Requirement already satisfied, skipping upgrade: certifi>=2017.4.17 in /usr/local/lib/python3.6/dist-packages (from requests<3.0.0,>=2.13.0->spacy) (2019.11.28)\n",
            "Requirement already satisfied, skipping upgrade: chardet<3.1.0,>=3.0.2 in /usr/local/lib/python3.6/dist-packages (from requests<3.0.0,>=2.13.0->spacy) (3.0.4)\n",
            "Requirement already satisfied, skipping upgrade: idna<2.9,>=2.5 in /usr/local/lib/python3.6/dist-packages (from requests<3.0.0,>=2.13.0->spacy) (2.8)\n",
            "Requirement already satisfied, skipping upgrade: zipp>=0.5 in /usr/local/lib/python3.6/dist-packages (from importlib-metadata>=0.20; python_version < \"3.8\"->catalogue<1.1.0,>=0.0.7->spacy) (2.1.0)\n",
            "Requirement already satisfied: scispacy in /usr/local/lib/python3.6/dist-packages (0.2.4)\n",
            "Requirement already satisfied: pysbd in /usr/local/lib/python3.6/dist-packages (from scispacy) (0.2.3)\n",
            "Requirement already satisfied: joblib in /usr/local/lib/python3.6/dist-packages (from scispacy) (0.14.1)\n",
            "Requirement already satisfied: numpy in /usr/local/lib/python3.6/dist-packages (from scispacy) (1.17.5)\n",
            "Requirement already satisfied: spacy>=2.2.1 in /usr/local/lib/python3.6/dist-packages (from scispacy) (2.2.3)\n",
            "Requirement already satisfied: awscli in /usr/local/lib/python3.6/dist-packages (from scispacy) (1.17.10)\n",
            "Requirement already satisfied: nmslib>=1.7.3.6 in /usr/local/lib/python3.6/dist-packages (from scispacy) (2.0.5)\n",
            "Requirement already satisfied: scikit-learn>=0.20.3 in /usr/local/lib/python3.6/dist-packages (from scispacy) (0.22.1)\n",
            "Requirement already satisfied: conllu in /usr/local/lib/python3.6/dist-packages (from scispacy) (2.2.2)\n",
            "Requirement already satisfied: catalogue<1.1.0,>=0.0.7 in /usr/local/lib/python3.6/dist-packages (from spacy>=2.2.1->scispacy) (1.0.0)\n",
            "Requirement already satisfied: requests<3.0.0,>=2.13.0 in /usr/local/lib/python3.6/dist-packages (from spacy>=2.2.1->scispacy) (2.21.0)\n",
            "Requirement already satisfied: preshed<3.1.0,>=3.0.2 in /usr/local/lib/python3.6/dist-packages (from spacy>=2.2.1->scispacy) (3.0.2)\n",
            "Requirement already satisfied: cymem<2.1.0,>=2.0.2 in /usr/local/lib/python3.6/dist-packages (from spacy>=2.2.1->scispacy) (2.0.3)\n",
            "Requirement already satisfied: thinc<7.4.0,>=7.3.0 in /usr/local/lib/python3.6/dist-packages (from spacy>=2.2.1->scispacy) (7.3.1)\n",
            "Requirement already satisfied: murmurhash<1.1.0,>=0.28.0 in /usr/local/lib/python3.6/dist-packages (from spacy>=2.2.1->scispacy) (1.0.2)\n",
            "Requirement already satisfied: wasabi<1.1.0,>=0.4.0 in /usr/local/lib/python3.6/dist-packages (from spacy>=2.2.1->scispacy) (0.6.0)\n",
            "Requirement already satisfied: setuptools in /usr/local/lib/python3.6/dist-packages (from spacy>=2.2.1->scispacy) (45.1.0)\n",
            "Requirement already satisfied: blis<0.5.0,>=0.4.0 in /usr/local/lib/python3.6/dist-packages (from spacy>=2.2.1->scispacy) (0.4.1)\n",
            "Requirement already satisfied: plac<1.2.0,>=0.9.6 in /usr/local/lib/python3.6/dist-packages (from spacy>=2.2.1->scispacy) (0.9.6)\n",
            "Requirement already satisfied: srsly<1.1.0,>=0.1.0 in /usr/local/lib/python3.6/dist-packages (from spacy>=2.2.1->scispacy) (1.0.1)\n",
            "Requirement already satisfied: rsa<=3.5.0,>=3.1.2 in /usr/local/lib/python3.6/dist-packages (from awscli->scispacy) (3.4.2)\n",
            "Requirement already satisfied: colorama<0.4.2,>=0.2.5 in /usr/local/lib/python3.6/dist-packages (from awscli->scispacy) (0.4.1)\n",
            "Requirement already satisfied: docutils<0.16,>=0.10 in /usr/local/lib/python3.6/dist-packages (from awscli->scispacy) (0.15.2)\n",
            "Requirement already satisfied: botocore==1.14.10 in /usr/local/lib/python3.6/dist-packages (from awscli->scispacy) (1.14.10)\n",
            "Requirement already satisfied: s3transfer<0.4.0,>=0.3.0 in /usr/local/lib/python3.6/dist-packages (from awscli->scispacy) (0.3.2)\n",
            "Requirement already satisfied: PyYAML<5.3,>=3.10 in /usr/local/lib/python3.6/dist-packages (from awscli->scispacy) (3.13)\n",
            "Requirement already satisfied: psutil in /usr/local/lib/python3.6/dist-packages (from nmslib>=1.7.3.6->scispacy) (5.4.8)\n",
            "Requirement already satisfied: pybind11>=2.2.3 in /usr/local/lib/python3.6/dist-packages (from nmslib>=1.7.3.6->scispacy) (2.4.3)\n",
            "Requirement already satisfied: scipy>=0.17.0 in /usr/local/lib/python3.6/dist-packages (from scikit-learn>=0.20.3->scispacy) (1.4.1)\n",
            "Requirement already satisfied: importlib-metadata>=0.20; python_version < \"3.8\" in /usr/local/lib/python3.6/dist-packages (from catalogue<1.1.0,>=0.0.7->spacy>=2.2.1->scispacy) (1.5.0)\n",
            "Requirement already satisfied: urllib3<1.25,>=1.21.1 in /usr/local/lib/python3.6/dist-packages (from requests<3.0.0,>=2.13.0->spacy>=2.2.1->scispacy) (1.24.3)\n",
            "Requirement already satisfied: certifi>=2017.4.17 in /usr/local/lib/python3.6/dist-packages (from requests<3.0.0,>=2.13.0->spacy>=2.2.1->scispacy) (2019.11.28)\n",
            "Requirement already satisfied: idna<2.9,>=2.5 in /usr/local/lib/python3.6/dist-packages (from requests<3.0.0,>=2.13.0->spacy>=2.2.1->scispacy) (2.8)\n",
            "Requirement already satisfied: chardet<3.1.0,>=3.0.2 in /usr/local/lib/python3.6/dist-packages (from requests<3.0.0,>=2.13.0->spacy>=2.2.1->scispacy) (3.0.4)\n",
            "Requirement already satisfied: tqdm<5.0.0,>=4.10.0 in /usr/local/lib/python3.6/dist-packages (from thinc<7.4.0,>=7.3.0->spacy>=2.2.1->scispacy) (4.28.1)\n",
            "Requirement already satisfied: pyasn1>=0.1.3 in /usr/local/lib/python3.6/dist-packages (from rsa<=3.5.0,>=3.1.2->awscli->scispacy) (0.4.8)\n",
            "Requirement already satisfied: python-dateutil<3.0.0,>=2.1 in /usr/local/lib/python3.6/dist-packages (from botocore==1.14.10->awscli->scispacy) (2.6.1)\n",
            "Requirement already satisfied: jmespath<1.0.0,>=0.7.1 in /usr/local/lib/python3.6/dist-packages (from botocore==1.14.10->awscli->scispacy) (0.9.4)\n",
            "Requirement already satisfied: zipp>=0.5 in /usr/local/lib/python3.6/dist-packages (from importlib-metadata>=0.20; python_version < \"3.8\"->catalogue<1.1.0,>=0.0.7->spacy>=2.2.1->scispacy) (2.1.0)\n",
            "Requirement already satisfied: six>=1.5 in /usr/local/lib/python3.6/dist-packages (from python-dateutil<3.0.0,>=2.1->botocore==1.14.10->awscli->scispacy) (1.12.0)\n"
          ],
          "name": "stdout"
        }
      ]
    },
    {
      "cell_type": "code",
      "metadata": {
        "id": "NuF8LGvXr_fh",
        "colab_type": "code",
        "colab": {}
      },
      "source": [
        "import cv2\n",
        "import numpy as np\n",
        "import matplotlib.pyplot as plt\n",
        "%matplotlib inline\n",
        "from scipy import ndimage\n",
        "import pandas as pd\n",
        "from PIL import Image\n",
        "from skimage.io import imread"
      ],
      "execution_count": 0,
      "outputs": []
    },
    {
      "cell_type": "code",
      "metadata": {
        "id": "sw5Wng72rAql",
        "colab_type": "code",
        "colab": {}
      },
      "source": [
        "from PIL import Image\n",
        "import pytesseract"
      ],
      "execution_count": 0,
      "outputs": []
    },
    {
      "cell_type": "markdown",
      "metadata": {
        "id": "UhmhMyfDr04E",
        "colab_type": "text"
      },
      "source": [
        "**Mounting Google Drive for importing files**"
      ]
    },
    {
      "cell_type": "code",
      "metadata": {
        "id": "sOdKjuJNshDj",
        "colab_type": "code",
        "outputId": "903c5987-2dfe-48ad-f85f-83ec189c5bad",
        "colab": {
          "base_uri": "https://localhost:8080/",
          "height": 34
        }
      },
      "source": [
        "from google.colab import drive\n",
        "drive.mount('/content/drive',force_remount=True)"
      ],
      "execution_count": 0,
      "outputs": [
        {
          "output_type": "stream",
          "text": [
            "Mounted at /content/drive\n"
          ],
          "name": "stdout"
        }
      ]
    },
    {
      "cell_type": "markdown",
      "metadata": {
        "id": "NsHyu5BSr9CU",
        "colab_type": "text"
      },
      "source": [
        "**Reading the files**"
      ]
    },
    {
      "cell_type": "code",
      "metadata": {
        "id": "Dk8YH_yer_fk",
        "colab_type": "code",
        "colab": {}
      },
      "source": [
        "#f=open(r'/content/drive/My Drive/Colab Notebooks/Intern_ND/test.pdf',mode='rb')\n",
        "#reader=PyPDF2.PdfFileReader(f)\n",
        "#n = reader.getNumPages()\n",
        "#page = reader.getPage(23)\n",
        "img=imread(r'/content/drive/My Drive/Colab Notebooks/Intern_ND/report.jpg')\n",
        "#image=cv2.cvtColor(img,cv2.COLOR_BGR2GRAY)"
      ],
      "execution_count": 0,
      "outputs": []
    },
    {
      "cell_type": "markdown",
      "metadata": {
        "id": "9W9bTEq5r_fq",
        "colab_type": "text"
      },
      "source": [
        "**Extracting text from region using Tesseract**\n",
        "\n"
      ]
    },
    {
      "cell_type": "code",
      "metadata": {
        "id": "5YwzGkPLr_fz",
        "colab_type": "code",
        "outputId": "36f7cc62-d16c-499b-f98a-05a6d7669693",
        "colab": {
          "base_uri": "https://localhost:8080/",
          "height": 967
        }
      },
      "source": [
        "content = pytesseract.image_to_string(img)\n",
        "print(content)"
      ],
      "execution_count": 0,
      "outputs": [
        {
          "output_type": "stream",
          "text": [
            "MOLECULAR GENETICS DIAGNOSTIC LABORATORY REPORT\n",
            "\n",
            "Name: Jennifer Collins Case #: 0385\n",
            "AgelDOB: 25 year old Date Received: June 2, 2008\n",
            "Sex: female Date Reported: June 11, 2008\n",
            "\n",
            "Ethnicity: information not provided jan/Clinic: Hutzel OB Clinic\n",
            "\n",
            "Family History: information not provided\n",
            "\n",
            " \n",
            "\n",
            " \n",
            "\n",
            "Reason for Referral: Cystic fibrosis carrier screening (estimated carrier frequencies in select\n",
            "populations are listed below)\n",
            "\n",
            "Methodology: The Cystic Fibrosis Transmembrane Regulator (CFTR) gene was tested for the\n",
            "presence of specific mutations by multiplex polymerase chain reaction (PCR) followed by reverse\n",
            "dot blot hybridization using the Standard Probe Arrays CFTR36 assay. This assay allows for the\n",
            "simultaneous detection and identifications of 36 CF related mutations and their wild-type\n",
            "sequences. This panel includes the 23 CFTR mutations recommended by the American College of\n",
            "Medical Genetics,\n",
            "\n",
            "Results: The AF508 cystic fibrosis mutation was identified in the heterozygous state. None of\n",
            "‘the other mutations tested for were detected.\n",
            "\n",
            "Interpretation: One copy of the AF508 mutation was identified indicating this individual is a\n",
            "carrier of cystic fibrosis. This interpretation is based on the assumption that this individual is not\n",
            "clinically affected with cystic fibrosis,\n",
            "\n",
            "Harry Smith 06/19/08\n",
            "Harold S. Smith, MD Date\n",
            "\n",
            "Director, Molecular Genetics Diagnostic Laboratory\n",
            "ABMG-Cettified (Clinical Molecular Genetics)\n",
            "\n",
            "  \n",
            "\n",
            "     \n",
            "\n",
            "Estimated Carrier Frequencies in Select Populations:\n",
            "\n",
            "Ethnic Group Carrier Frequency\n",
            "Ashkenazi Jewish v4\n",
            "Non-Hispanic Caucasian 2s\n",
            "African-American 61\n",
            "Hispanic-American 58\n",
            "\n",
            " \n",
            "\n",
            " \n",
            "\n",
            "Asian-American 94\n"
          ],
          "name": "stdout"
        }
      ]
    },
    {
      "cell_type": "code",
      "metadata": {
        "id": "GAZd_qO6GmGV",
        "colab_type": "code",
        "outputId": "e497204f-7edd-40bf-c93b-761155302587",
        "colab": {
          "base_uri": "https://localhost:8080/",
          "height": 34
        }
      },
      "source": [
        "from google.colab import drive\n",
        "drive.mount('/content/drive')"
      ],
      "execution_count": 0,
      "outputs": [
        {
          "output_type": "stream",
          "text": [
            "Drive already mounted at /content/drive; to attempt to forcibly remount, call drive.mount(\"/content/drive\", force_remount=True).\n"
          ],
          "name": "stdout"
        }
      ]
    },
    {
      "cell_type": "code",
      "metadata": {
        "id": "8LJzilTa6jwe",
        "colab_type": "code",
        "colab": {}
      },
      "source": [
        "import scispacy\n",
        "import spacy.cli\n",
        "from spacy import displacy\n",
        "from scispacy.abbreviation import AbbreviationDetector\n",
        "from scispacy.umls_linking import UmlsEntityLinker"
      ],
      "execution_count": 0,
      "outputs": []
    },
    {
      "cell_type": "code",
      "metadata": {
        "id": "0BqV4avywcLH",
        "colab_type": "code",
        "outputId": "7587a7fb-b1cb-4e23-b70c-5ed212be372c",
        "colab": {
          "base_uri": "https://localhost:8080/",
          "height": 459
        }
      },
      "source": [
        "!pip install https://s3-us-west-2.amazonaws.com/ai2-s2-scispacy/releases/v0.2.4/en_ner_bionlp13cg_md-0.2.4.tar.gz en-ner-bionlp13cg-md"
      ],
      "execution_count": 0,
      "outputs": [
        {
          "output_type": "stream",
          "text": [
            "Collecting https://s3-us-west-2.amazonaws.com/ai2-s2-scispacy/releases/v0.2.4/en_ner_bionlp13cg_md-0.2.4.tar.gz\n",
            "  Using cached https://s3-us-west-2.amazonaws.com/ai2-s2-scispacy/releases/v0.2.4/en_ner_bionlp13cg_md-0.2.4.tar.gz\n",
            "Requirement already satisfied (use --upgrade to upgrade): en-ner-bionlp13cg-md==0.2.4 from https://s3-us-west-2.amazonaws.com/ai2-s2-scispacy/releases/v0.2.4/en_ner_bionlp13cg_md-0.2.4.tar.gz in /usr/local/lib/python3.6/dist-packages\n",
            "Requirement already satisfied: en-ner-bionlp13cg-md in /usr/local/lib/python3.6/dist-packages (0.2.4)\n",
            "Requirement already satisfied: spacy>=2.2.1 in /usr/local/lib/python3.6/dist-packages (from en-ner-bionlp13cg-md==0.2.4) (2.2.3)\n",
            "Requirement already satisfied: preshed<3.1.0,>=3.0.2 in /usr/local/lib/python3.6/dist-packages (from spacy>=2.2.1->en-ner-bionlp13cg-md==0.2.4) (3.0.2)\n",
            "Requirement already satisfied: blis<0.5.0,>=0.4.0 in /usr/local/lib/python3.6/dist-packages (from spacy>=2.2.1->en-ner-bionlp13cg-md==0.2.4) (0.4.1)\n",
            "Requirement already satisfied: catalogue<1.1.0,>=0.0.7 in /usr/local/lib/python3.6/dist-packages (from spacy>=2.2.1->en-ner-bionlp13cg-md==0.2.4) (1.0.0)\n",
            "Requirement already satisfied: requests<3.0.0,>=2.13.0 in /usr/local/lib/python3.6/dist-packages (from spacy>=2.2.1->en-ner-bionlp13cg-md==0.2.4) (2.21.0)\n",
            "Requirement already satisfied: setuptools in /usr/local/lib/python3.6/dist-packages (from spacy>=2.2.1->en-ner-bionlp13cg-md==0.2.4) (45.1.0)\n",
            "Requirement already satisfied: murmurhash<1.1.0,>=0.28.0 in /usr/local/lib/python3.6/dist-packages (from spacy>=2.2.1->en-ner-bionlp13cg-md==0.2.4) (1.0.2)\n",
            "Requirement already satisfied: wasabi<1.1.0,>=0.4.0 in /usr/local/lib/python3.6/dist-packages (from spacy>=2.2.1->en-ner-bionlp13cg-md==0.2.4) (0.6.0)\n",
            "Requirement already satisfied: srsly<1.1.0,>=0.1.0 in /usr/local/lib/python3.6/dist-packages (from spacy>=2.2.1->en-ner-bionlp13cg-md==0.2.4) (1.0.1)\n",
            "Requirement already satisfied: numpy>=1.15.0 in /usr/local/lib/python3.6/dist-packages (from spacy>=2.2.1->en-ner-bionlp13cg-md==0.2.4) (1.17.5)\n",
            "Requirement already satisfied: plac<1.2.0,>=0.9.6 in /usr/local/lib/python3.6/dist-packages (from spacy>=2.2.1->en-ner-bionlp13cg-md==0.2.4) (0.9.6)\n",
            "Requirement already satisfied: cymem<2.1.0,>=2.0.2 in /usr/local/lib/python3.6/dist-packages (from spacy>=2.2.1->en-ner-bionlp13cg-md==0.2.4) (2.0.3)\n",
            "Requirement already satisfied: thinc<7.4.0,>=7.3.0 in /usr/local/lib/python3.6/dist-packages (from spacy>=2.2.1->en-ner-bionlp13cg-md==0.2.4) (7.3.1)\n",
            "Requirement already satisfied: importlib-metadata>=0.20; python_version < \"3.8\" in /usr/local/lib/python3.6/dist-packages (from catalogue<1.1.0,>=0.0.7->spacy>=2.2.1->en-ner-bionlp13cg-md==0.2.4) (1.5.0)\n",
            "Requirement already satisfied: idna<2.9,>=2.5 in /usr/local/lib/python3.6/dist-packages (from requests<3.0.0,>=2.13.0->spacy>=2.2.1->en-ner-bionlp13cg-md==0.2.4) (2.8)\n",
            "Requirement already satisfied: chardet<3.1.0,>=3.0.2 in /usr/local/lib/python3.6/dist-packages (from requests<3.0.0,>=2.13.0->spacy>=2.2.1->en-ner-bionlp13cg-md==0.2.4) (3.0.4)\n",
            "Requirement already satisfied: certifi>=2017.4.17 in /usr/local/lib/python3.6/dist-packages (from requests<3.0.0,>=2.13.0->spacy>=2.2.1->en-ner-bionlp13cg-md==0.2.4) (2019.11.28)\n",
            "Requirement already satisfied: urllib3<1.25,>=1.21.1 in /usr/local/lib/python3.6/dist-packages (from requests<3.0.0,>=2.13.0->spacy>=2.2.1->en-ner-bionlp13cg-md==0.2.4) (1.24.3)\n",
            "Requirement already satisfied: tqdm<5.0.0,>=4.10.0 in /usr/local/lib/python3.6/dist-packages (from thinc<7.4.0,>=7.3.0->spacy>=2.2.1->en-ner-bionlp13cg-md==0.2.4) (4.28.1)\n",
            "Requirement already satisfied: zipp>=0.5 in /usr/local/lib/python3.6/dist-packages (from importlib-metadata>=0.20; python_version < \"3.8\"->catalogue<1.1.0,>=0.0.7->spacy>=2.2.1->en-ner-bionlp13cg-md==0.2.4) (2.1.0)\n"
          ],
          "name": "stdout"
        }
      ]
    },
    {
      "cell_type": "code",
      "metadata": {
        "id": "5BRuoMe-0uxT",
        "colab_type": "code",
        "colab": {}
      },
      "source": [
        "nlp = spacy.load('en_ner_bionlp13cg_md')"
      ],
      "execution_count": 0,
      "outputs": []
    },
    {
      "cell_type": "code",
      "metadata": {
        "id": "ZL-PMb_J8UdV",
        "colab_type": "code",
        "outputId": "9a5dcde8-d8dd-478c-8ab5-3a71aedfcab9",
        "colab": {
          "base_uri": "https://localhost:8080/",
          "height": 967
        }
      },
      "source": [
        "doc = nlp(content)\n",
        "print(list(doc.sents))"
      ],
      "execution_count": 0,
      "outputs": [
        {
          "output_type": "stream",
          "text": [
            "[MOLECULAR GENETICS DIAGNOSTIC LABORATORY REPORT\n",
            "\n",
            "Name: Jennifer Collins Case #: 0385\n",
            "AgelDOB: 25 year old Date Received: June 2, 2008\n",
            "Sex: female Date Reported:, June 11, 2008\n",
            "\n",
            "Ethnicity: information not provided jan/Clinic: Hutzel OB Clinic\n",
            "\n",
            "Family History: information not provided\n",
            "\n",
            " \n",
            "\n",
            " \n",
            "\n",
            "Reason for Referral: Cystic fibrosis carrier screening (estimated carrier frequencies in select\n",
            "populations are listed below)\n",
            "\n",
            "Methodology: The Cystic Fibrosis Transmembrane Regulator (CFTR) gene was tested for the\n",
            "presence of specific mutations by multiplex polymerase chain reaction (PCR) followed by reverse\n",
            "dot blot hybridization using the Standard Probe Arrays CFTR36 assay., This assay allows for the\n",
            "simultaneous detection and identifications of 36 CF related mutations and their wild-type\n",
            "sequences., This panel includes the 23 CFTR mutations recommended by the American College of\n",
            "Medical Genetics,\n",
            "\n",
            "Results: The AF508 cystic fibrosis mutation was identified in the heterozygous state., None of\n",
            "‘the other mutations tested for were detected.\n",
            "\n",
            ", Interpretation: One copy of the AF508 mutation was identified indicating this individual is a\n",
            "carrier of cystic fibrosis., This interpretation is based on the assumption that this individual is not\n",
            "clinically affected with cystic fibrosis,\n",
            "\n",
            "Harry Smith 06/19/08\n",
            "Harold S. Smith, MD Date\n",
            "\n",
            "Director, Molecular Genetics Diagnostic Laboratory\n",
            "ABMG-Cettified (Clinical Molecular Genetics)\n",
            "\n",
            "  \n",
            "\n",
            "     \n",
            "\n",
            "Estimated Carrier Frequencies in Select Populations:\n",
            "\n",
            ", Ethnic Group Carrier Frequency\n",
            "Ashkenazi Jewish v4\n",
            "Non-Hispanic Caucasian 2s\n",
            "African-American 61\n",
            "Hispanic-American 58\n",
            "\n",
            " \n",
            "\n",
            " \n",
            "\n",
            "Asian-American 94]\n"
          ],
          "name": "stdout"
        }
      ]
    },
    {
      "cell_type": "code",
      "metadata": {
        "id": "ndGpymVp8btP",
        "colab_type": "code",
        "outputId": "20e140e3-3b3d-4aab-9cc8-cbd637c58239",
        "colab": {
          "base_uri": "https://localhost:8080/",
          "height": 210
        }
      },
      "source": [
        "entities = []\n",
        "for i in range(len(doc.ents)):\n",
        "    entities.append(doc.ents[i])\n",
        "entities"
      ],
      "execution_count": 0,
      "outputs": [
        {
          "output_type": "execute_result",
          "data": {
            "text/plain": [
              "[Jennifer,\n",
              " Hutzel OB,\n",
              " Cystic Fibrosis,\n",
              " CFTR,\n",
              " Probe,\n",
              " CFTR36,\n",
              " CF,\n",
              " CFTR,\n",
              " cystic,\n",
              " cystic,\n",
              " cystic]"
            ]
          },
          "metadata": {
            "tags": []
          },
          "execution_count": 19
        }
      ]
    },
    {
      "cell_type": "code",
      "metadata": {
        "id": "evyGrKLU8f49",
        "colab_type": "code",
        "outputId": "31f08eb5-3647-4065-c14f-117dc63174ec",
        "colab": {
          "base_uri": "https://localhost:8080/",
          "height": 1000
        }
      },
      "source": [
        "displacy.render(doc,style='ent',jupyter=True)"
      ],
      "execution_count": 0,
      "outputs": [
        {
          "output_type": "display_data",
          "data": {
            "text/html": [
              "<div class=\"entities\" style=\"line-height: 2.5; direction: ltr\">MOLECULAR GENETICS DIAGNOSTIC LABORATORY REPORT</br></br>Name: \n",
              "<mark class=\"entity\" style=\"background: #ddd; padding: 0.45em 0.6em; margin: 0 0.25em; line-height: 1; border-radius: 0.35em;\">\n",
              "    Jennifer\n",
              "    <span style=\"font-size: 0.8em; font-weight: bold; line-height: 1; border-radius: 0.35em; text-transform: uppercase; vertical-align: middle; margin-left: 0.5rem\">GENE_OR_GENE_PRODUCT</span>\n",
              "</mark>\n",
              " Collins Case #: 0385</br>AgelDOB: 25 year old Date Received: June 2, 2008</br>Sex: female Date Reported: June 11, 2008</br></br>Ethnicity: information not provided jan/Clinic: \n",
              "<mark class=\"entity\" style=\"background: #ddd; padding: 0.45em 0.6em; margin: 0 0.25em; line-height: 1; border-radius: 0.35em;\">\n",
              "    Hutzel OB\n",
              "    <span style=\"font-size: 0.8em; font-weight: bold; line-height: 1; border-radius: 0.35em; text-transform: uppercase; vertical-align: middle; margin-left: 0.5rem\">ORGANISM</span>\n",
              "</mark>\n",
              " Clinic</br></br>Family History: information not provided</br></br> </br></br> </br></br>Reason for Referral: Cystic fibrosis carrier screening (estimated carrier frequencies in select</br>populations are listed below)</br></br>Methodology: The \n",
              "<mark class=\"entity\" style=\"background: #ddd; padding: 0.45em 0.6em; margin: 0 0.25em; line-height: 1; border-radius: 0.35em;\">\n",
              "    Cystic Fibrosis\n",
              "    <span style=\"font-size: 0.8em; font-weight: bold; line-height: 1; border-radius: 0.35em; text-transform: uppercase; vertical-align: middle; margin-left: 0.5rem\">PATHOLOGICAL_FORMATION</span>\n",
              "</mark>\n",
              " Transmembrane Regulator (\n",
              "<mark class=\"entity\" style=\"background: #ddd; padding: 0.45em 0.6em; margin: 0 0.25em; line-height: 1; border-radius: 0.35em;\">\n",
              "    CFTR\n",
              "    <span style=\"font-size: 0.8em; font-weight: bold; line-height: 1; border-radius: 0.35em; text-transform: uppercase; vertical-align: middle; margin-left: 0.5rem\">GENE_OR_GENE_PRODUCT</span>\n",
              "</mark>\n",
              ") gene was tested for the</br>presence of specific mutations by multiplex polymerase chain reaction (PCR) followed by reverse</br>dot blot hybridization using the Standard \n",
              "<mark class=\"entity\" style=\"background: #ddd; padding: 0.45em 0.6em; margin: 0 0.25em; line-height: 1; border-radius: 0.35em;\">\n",
              "    Probe\n",
              "    <span style=\"font-size: 0.8em; font-weight: bold; line-height: 1; border-radius: 0.35em; text-transform: uppercase; vertical-align: middle; margin-left: 0.5rem\">GENE_OR_GENE_PRODUCT</span>\n",
              "</mark>\n",
              " Arrays \n",
              "<mark class=\"entity\" style=\"background: #ddd; padding: 0.45em 0.6em; margin: 0 0.25em; line-height: 1; border-radius: 0.35em;\">\n",
              "    CFTR36\n",
              "    <span style=\"font-size: 0.8em; font-weight: bold; line-height: 1; border-radius: 0.35em; text-transform: uppercase; vertical-align: middle; margin-left: 0.5rem\">GENE_OR_GENE_PRODUCT</span>\n",
              "</mark>\n",
              " assay. This assay allows for the</br>simultaneous detection and identifications of 36 \n",
              "<mark class=\"entity\" style=\"background: #ddd; padding: 0.45em 0.6em; margin: 0 0.25em; line-height: 1; border-radius: 0.35em;\">\n",
              "    CF\n",
              "    <span style=\"font-size: 0.8em; font-weight: bold; line-height: 1; border-radius: 0.35em; text-transform: uppercase; vertical-align: middle; margin-left: 0.5rem\">ORGAN</span>\n",
              "</mark>\n",
              " related mutations and their wild-type</br>sequences. This panel includes the 23 \n",
              "<mark class=\"entity\" style=\"background: #ddd; padding: 0.45em 0.6em; margin: 0 0.25em; line-height: 1; border-radius: 0.35em;\">\n",
              "    CFTR\n",
              "    <span style=\"font-size: 0.8em; font-weight: bold; line-height: 1; border-radius: 0.35em; text-transform: uppercase; vertical-align: middle; margin-left: 0.5rem\">GENE_OR_GENE_PRODUCT</span>\n",
              "</mark>\n",
              " mutations recommended by the American College of</br>Medical Genetics,</br></br>Results: The AF508 \n",
              "<mark class=\"entity\" style=\"background: #ddd; padding: 0.45em 0.6em; margin: 0 0.25em; line-height: 1; border-radius: 0.35em;\">\n",
              "    cystic\n",
              "    <span style=\"font-size: 0.8em; font-weight: bold; line-height: 1; border-radius: 0.35em; text-transform: uppercase; vertical-align: middle; margin-left: 0.5rem\">PATHOLOGICAL_FORMATION</span>\n",
              "</mark>\n",
              " fibrosis mutation was identified in the heterozygous state. None of</br>‘the other mutations tested for were detected.</br></br>Interpretation: One copy of the AF508 mutation was identified indicating this individual is a</br>carrier of \n",
              "<mark class=\"entity\" style=\"background: #ddd; padding: 0.45em 0.6em; margin: 0 0.25em; line-height: 1; border-radius: 0.35em;\">\n",
              "    cystic\n",
              "    <span style=\"font-size: 0.8em; font-weight: bold; line-height: 1; border-radius: 0.35em; text-transform: uppercase; vertical-align: middle; margin-left: 0.5rem\">PATHOLOGICAL_FORMATION</span>\n",
              "</mark>\n",
              " fibrosis. This interpretation is based on the assumption that this individual is not</br>clinically affected with \n",
              "<mark class=\"entity\" style=\"background: #ddd; padding: 0.45em 0.6em; margin: 0 0.25em; line-height: 1; border-radius: 0.35em;\">\n",
              "    cystic\n",
              "    <span style=\"font-size: 0.8em; font-weight: bold; line-height: 1; border-radius: 0.35em; text-transform: uppercase; vertical-align: middle; margin-left: 0.5rem\">ORGAN</span>\n",
              "</mark>\n",
              " fibrosis,\n",
              "\n",
              "Harry Smith 06/19/08\n",
              "Harold S. Smith, MD Date\n",
              "\n",
              "Director, Molecular Genetics Diagnostic Laboratory\n",
              "ABMG-Cettified (Clinical Molecular Genetics)\n",
              "\n",
              "  \n",
              "\n",
              "     \n",
              "\n",
              "Estimated Carrier Frequencies in Select Populations:\n",
              "\n",
              "Ethnic Group Carrier Frequency\n",
              "Ashkenazi Jewish v4\n",
              "Non-Hispanic Caucasian 2s\n",
              "African-American 61\n",
              "Hispanic-American 58\n",
              "\n",
              " \n",
              "\n",
              " \n",
              "\n",
              "Asian-American 94</div>"
            ],
            "text/plain": [
              "<IPython.core.display.HTML object>"
            ]
          },
          "metadata": {
            "tags": []
          }
        }
      ]
    },
    {
      "cell_type": "code",
      "metadata": {
        "id": "84iNQL77Av6Q",
        "colab_type": "code",
        "colab": {}
      },
      "source": [
        "import re\n",
        "from pytesseract import Output"
      ],
      "execution_count": 0,
      "outputs": []
    },
    {
      "cell_type": "code",
      "metadata": {
        "id": "4U8mfbO4AobD",
        "colab_type": "code",
        "colab": {}
      },
      "source": [
        "d = pytesseract.image_to_data(img,output_type=Output.DICT)\n",
        "keys = list(d.keys())"
      ],
      "execution_count": 0,
      "outputs": []
    },
    {
      "cell_type": "code",
      "metadata": {
        "id": "ow52Gb0ewLG8",
        "colab_type": "code",
        "colab": {}
      },
      "source": [
        "#'Please input the serial number of entity'\n",
        "#m=input(int)\n",
        "#for m in range(len(entities)):\n",
        "#    pattern = str(entities[m])\n",
        "pattern = '^[A-Z]+$'"
      ],
      "execution_count": 0,
      "outputs": []
    },
    {
      "cell_type": "code",
      "metadata": {
        "id": "tsIZxNfPBxWW",
        "colab_type": "code",
        "colab": {}
      },
      "source": [
        "n_boxes = len(d['text'])\n",
        "for k in range(n_boxes):\n",
        "    if int(d['conf'][k]) > 80:\n",
        "        if re.match(pattern, d['text'][k]):\n",
        "            (x,y,w,h) = (d['left'][k],d['top'][k],d['width'][k],d['height'][k])\n",
        "            img = cv2.rectangle(img,(x,y),(x+w,y+h),(0,255,0),2)\n",
        "\n",
        "from google.colab.patches import cv2_imshow\n",
        "cv2_imshow(img)\n",
        "cv2.waitKey()"
      ],
      "execution_count": 0,
      "outputs": []
    },
    {
      "cell_type": "markdown",
      "metadata": {
        "id": "5Hxkd4o1pME0",
        "colab_type": "text"
      },
      "source": [
        "##**BERT**"
      ]
    },
    {
      "cell_type": "code",
      "metadata": {
        "id": "Ty9yq26jvcWJ",
        "colab_type": "code",
        "colab": {}
      },
      "source": [
        "!pip install bert-extractive-summarizer"
      ],
      "execution_count": 0,
      "outputs": []
    },
    {
      "cell_type": "code",
      "metadata": {
        "id": "taobnG8spV4Q",
        "colab_type": "code",
        "colab": {}
      },
      "source": [
        "!pip install spacy==2.1.3\n",
        "!pip install transformers==2.2.0"
      ],
      "execution_count": 0,
      "outputs": []
    },
    {
      "cell_type": "code",
      "metadata": {
        "id": "quMcHON-pae9",
        "colab_type": "code",
        "colab": {}
      },
      "source": [
        "from summarizer import Summarizer"
      ],
      "execution_count": 0,
      "outputs": []
    },
    {
      "cell_type": "code",
      "metadata": {
        "id": "TfKt-zrgpgB7",
        "colab_type": "code",
        "colab": {}
      },
      "source": [
        "model = Summarizer()"
      ],
      "execution_count": 0,
      "outputs": []
    },
    {
      "cell_type": "code",
      "metadata": {
        "id": "Y3NQSC88pix5",
        "colab_type": "code",
        "colab": {}
      },
      "source": [
        "result1 = model(content,min_length = 1)\n",
        "full = ''.join(result1)\n",
        "print(full)"
      ],
      "execution_count": 0,
      "outputs": []
    },
    {
      "cell_type": "code",
      "metadata": {
        "id": "pJOs7gegsxvJ",
        "colab_type": "code",
        "colab": {}
      },
      "source": [
        ""
      ],
      "execution_count": 0,
      "outputs": []
    }
  ]
}