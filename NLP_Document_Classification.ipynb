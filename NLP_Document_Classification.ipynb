{
  "nbformat": 4,
  "nbformat_minor": 0,
  "metadata": {
    "colab": {
      "name": "NLP_Document_Classification",
      "provenance": [],
      "collapsed_sections": [],
      "include_colab_link": true
    },
    "kernelspec": {
      "name": "python3",
      "display_name": "Python 3"
    },
    "accelerator": "GPU"
  },
  "cells": [
    {
      "cell_type": "markdown",
      "metadata": {
        "id": "view-in-github",
        "colab_type": "text"
      },
      "source": [
        "<a href=\"https://colab.research.google.com/github/sriloksagar/Intern_ND/blob/master/NLP_Document_Classification.ipynb\" target=\"_parent\"><img src=\"https://colab.research.google.com/assets/colab-badge.svg\" alt=\"Open In Colab\"/></a>"
      ]
    },
    {
      "cell_type": "markdown",
      "metadata": {
        "id": "ZUjLt-U5X2Qv",
        "colab_type": "text"
      },
      "source": [
        "**Installing NLTK Library**\n",
        "\n",
        "---\n"
      ]
    },
    {
      "cell_type": "code",
      "metadata": {
        "id": "ouZZ__78PrWi",
        "colab_type": "code",
        "outputId": "8e385b95-88e1-4bcd-955e-7d00da292362",
        "colab": {
          "base_uri": "https://localhost:8080/",
          "height": 263
        }
      },
      "source": [
        "!pip install -U nltk"
      ],
      "execution_count": 0,
      "outputs": [
        {
          "output_type": "stream",
          "text": [
            "Collecting nltk\n",
            "\u001b[?25l  Downloading https://files.pythonhosted.org/packages/f6/1d/d925cfb4f324ede997f6d47bea4d9babba51b49e87a767c170b77005889d/nltk-3.4.5.zip (1.5MB)\n",
            "\r\u001b[K     |▎                               | 10kB 19.2MB/s eta 0:00:01\r\u001b[K     |▌                               | 20kB 4.4MB/s eta 0:00:01\r\u001b[K     |▊                               | 30kB 6.2MB/s eta 0:00:01\r\u001b[K     |█                               | 40kB 7.9MB/s eta 0:00:01\r\u001b[K     |█▏                              | 51kB 5.1MB/s eta 0:00:01\r\u001b[K     |█▍                              | 61kB 6.0MB/s eta 0:00:01\r\u001b[K     |█▋                              | 71kB 6.8MB/s eta 0:00:01\r\u001b[K     |█▉                              | 81kB 7.6MB/s eta 0:00:01\r\u001b[K     |██                              | 92kB 8.4MB/s eta 0:00:01\r\u001b[K     |██▎                             | 102kB 6.6MB/s eta 0:00:01\r\u001b[K     |██▌                             | 112kB 6.6MB/s eta 0:00:01\r\u001b[K     |██▊                             | 122kB 6.6MB/s eta 0:00:01\r\u001b[K     |███                             | 133kB 6.6MB/s eta 0:00:01\r\u001b[K     |███▏                            | 143kB 6.6MB/s eta 0:00:01\r\u001b[K     |███▍                            | 153kB 6.6MB/s eta 0:00:01\r\u001b[K     |███▋                            | 163kB 6.6MB/s eta 0:00:01\r\u001b[K     |███▉                            | 174kB 6.6MB/s eta 0:00:01\r\u001b[K     |████                            | 184kB 6.6MB/s eta 0:00:01\r\u001b[K     |████▎                           | 194kB 6.6MB/s eta 0:00:01\r\u001b[K     |████▌                           | 204kB 6.6MB/s eta 0:00:01\r\u001b[K     |████▊                           | 215kB 6.6MB/s eta 0:00:01\r\u001b[K     |█████                           | 225kB 6.6MB/s eta 0:00:01\r\u001b[K     |█████▏                          | 235kB 6.6MB/s eta 0:00:01\r\u001b[K     |█████▍                          | 245kB 6.6MB/s eta 0:00:01\r\u001b[K     |█████▋                          | 256kB 6.6MB/s eta 0:00:01\r\u001b[K     |█████▉                          | 266kB 6.6MB/s eta 0:00:01\r\u001b[K     |██████                          | 276kB 6.6MB/s eta 0:00:01\r\u001b[K     |██████▎                         | 286kB 6.6MB/s eta 0:00:01\r\u001b[K     |██████▌                         | 296kB 6.6MB/s eta 0:00:01\r\u001b[K     |██████▊                         | 307kB 6.6MB/s eta 0:00:01\r\u001b[K     |███████                         | 317kB 6.6MB/s eta 0:00:01\r\u001b[K     |███████▎                        | 327kB 6.6MB/s eta 0:00:01\r\u001b[K     |███████▌                        | 337kB 6.6MB/s eta 0:00:01\r\u001b[K     |███████▊                        | 348kB 6.6MB/s eta 0:00:01\r\u001b[K     |████████                        | 358kB 6.6MB/s eta 0:00:01\r\u001b[K     |████████▏                       | 368kB 6.6MB/s eta 0:00:01\r\u001b[K     |████████▍                       | 378kB 6.6MB/s eta 0:00:01\r\u001b[K     |████████▋                       | 389kB 6.6MB/s eta 0:00:01\r\u001b[K     |████████▉                       | 399kB 6.6MB/s eta 0:00:01\r\u001b[K     |█████████                       | 409kB 6.6MB/s eta 0:00:01\r\u001b[K     |█████████▎                      | 419kB 6.6MB/s eta 0:00:01\r\u001b[K     |█████████▌                      | 430kB 6.6MB/s eta 0:00:01\r\u001b[K     |█████████▊                      | 440kB 6.6MB/s eta 0:00:01\r\u001b[K     |██████████                      | 450kB 6.6MB/s eta 0:00:01\r\u001b[K     |██████████▏                     | 460kB 6.6MB/s eta 0:00:01\r\u001b[K     |██████████▍                     | 471kB 6.6MB/s eta 0:00:01\r\u001b[K     |██████████▋                     | 481kB 6.6MB/s eta 0:00:01\r\u001b[K     |██████████▉                     | 491kB 6.6MB/s eta 0:00:01\r\u001b[K     |███████████                     | 501kB 6.6MB/s eta 0:00:01\r\u001b[K     |███████████▎                    | 512kB 6.6MB/s eta 0:00:01\r\u001b[K     |███████████▌                    | 522kB 6.6MB/s eta 0:00:01\r\u001b[K     |███████████▊                    | 532kB 6.6MB/s eta 0:00:01\r\u001b[K     |████████████                    | 542kB 6.6MB/s eta 0:00:01\r\u001b[K     |████████████▏                   | 552kB 6.6MB/s eta 0:00:01\r\u001b[K     |████████████▍                   | 563kB 6.6MB/s eta 0:00:01\r\u001b[K     |████████████▋                   | 573kB 6.6MB/s eta 0:00:01\r\u001b[K     |████████████▉                   | 583kB 6.6MB/s eta 0:00:01\r\u001b[K     |█████████████                   | 593kB 6.6MB/s eta 0:00:01\r\u001b[K     |█████████████▎                  | 604kB 6.6MB/s eta 0:00:01\r\u001b[K     |█████████████▌                  | 614kB 6.6MB/s eta 0:00:01\r\u001b[K     |█████████████▉                  | 624kB 6.6MB/s eta 0:00:01\r\u001b[K     |██████████████                  | 634kB 6.6MB/s eta 0:00:01\r\u001b[K     |██████████████▎                 | 645kB 6.6MB/s eta 0:00:01\r\u001b[K     |██████████████▌                 | 655kB 6.6MB/s eta 0:00:01\r\u001b[K     |██████████████▊                 | 665kB 6.6MB/s eta 0:00:01\r\u001b[K     |███████████████                 | 675kB 6.6MB/s eta 0:00:01\r\u001b[K     |███████████████▏                | 686kB 6.6MB/s eta 0:00:01\r\u001b[K     |███████████████▍                | 696kB 6.6MB/s eta 0:00:01\r\u001b[K     |███████████████▋                | 706kB 6.6MB/s eta 0:00:01\r\u001b[K     |███████████████▉                | 716kB 6.6MB/s eta 0:00:01\r\u001b[K     |████████████████                | 727kB 6.6MB/s eta 0:00:01\r\u001b[K     |████████████████▎               | 737kB 6.6MB/s eta 0:00:01\r\u001b[K     |████████████████▌               | 747kB 6.6MB/s eta 0:00:01\r\u001b[K     |████████████████▊               | 757kB 6.6MB/s eta 0:00:01\r\u001b[K     |█████████████████               | 768kB 6.6MB/s eta 0:00:01\r\u001b[K     |█████████████████▏              | 778kB 6.6MB/s eta 0:00:01\r\u001b[K     |█████████████████▍              | 788kB 6.6MB/s eta 0:00:01\r\u001b[K     |█████████████████▋              | 798kB 6.6MB/s eta 0:00:01\r\u001b[K     |█████████████████▉              | 808kB 6.6MB/s eta 0:00:01\r\u001b[K     |██████████████████              | 819kB 6.6MB/s eta 0:00:01\r\u001b[K     |██████████████████▎             | 829kB 6.6MB/s eta 0:00:01\r\u001b[K     |██████████████████▌             | 839kB 6.6MB/s eta 0:00:01\r\u001b[K     |██████████████████▊             | 849kB 6.6MB/s eta 0:00:01\r\u001b[K     |███████████████████             | 860kB 6.6MB/s eta 0:00:01\r\u001b[K     |███████████████████▏            | 870kB 6.6MB/s eta 0:00:01\r\u001b[K     |███████████████████▍            | 880kB 6.6MB/s eta 0:00:01\r\u001b[K     |███████████████████▋            | 890kB 6.6MB/s eta 0:00:01\r\u001b[K     |███████████████████▉            | 901kB 6.6MB/s eta 0:00:01\r\u001b[K     |████████████████████            | 911kB 6.6MB/s eta 0:00:01\r\u001b[K     |████████████████████▎           | 921kB 6.6MB/s eta 0:00:01\r\u001b[K     |████████████████████▋           | 931kB 6.6MB/s eta 0:00:01\r\u001b[K     |████████████████████▉           | 942kB 6.6MB/s eta 0:00:01\r\u001b[K     |█████████████████████           | 952kB 6.6MB/s eta 0:00:01\r\u001b[K     |█████████████████████▎          | 962kB 6.6MB/s eta 0:00:01\r\u001b[K     |█████████████████████▌          | 972kB 6.6MB/s eta 0:00:01\r\u001b[K     |█████████████████████▊          | 983kB 6.6MB/s eta 0:00:01\r\u001b[K     |██████████████████████          | 993kB 6.6MB/s eta 0:00:01\r\u001b[K     |██████████████████████▏         | 1.0MB 6.6MB/s eta 0:00:01\r\u001b[K     |██████████████████████▍         | 1.0MB 6.6MB/s eta 0:00:01\r\u001b[K     |██████████████████████▋         | 1.0MB 6.6MB/s eta 0:00:01\r\u001b[K     |██████████████████████▉         | 1.0MB 6.6MB/s eta 0:00:01\r\u001b[K     |███████████████████████         | 1.0MB 6.6MB/s eta 0:00:01\r\u001b[K     |███████████████████████▎        | 1.1MB 6.6MB/s eta 0:00:01\r\u001b[K     |███████████████████████▌        | 1.1MB 6.6MB/s eta 0:00:01\r\u001b[K     |███████████████████████▊        | 1.1MB 6.6MB/s eta 0:00:01\r\u001b[K     |████████████████████████        | 1.1MB 6.6MB/s eta 0:00:01\r\u001b[K     |████████████████████████▏       | 1.1MB 6.6MB/s eta 0:00:01\r\u001b[K     |████████████████████████▍       | 1.1MB 6.6MB/s eta 0:00:01\r\u001b[K     |████████████████████████▋       | 1.1MB 6.6MB/s eta 0:00:01\r\u001b[K     |████████████████████████▉       | 1.1MB 6.6MB/s eta 0:00:01\r\u001b[K     |█████████████████████████       | 1.1MB 6.6MB/s eta 0:00:01\r\u001b[K     |█████████████████████████▎      | 1.1MB 6.6MB/s eta 0:00:01\r\u001b[K     |█████████████████████████▌      | 1.2MB 6.6MB/s eta 0:00:01\r\u001b[K     |█████████████████████████▊      | 1.2MB 6.6MB/s eta 0:00:01\r\u001b[K     |██████████████████████████      | 1.2MB 6.6MB/s eta 0:00:01\r\u001b[K     |██████████████████████████▏     | 1.2MB 6.6MB/s eta 0:00:01\r\u001b[K     |██████████████████████████▍     | 1.2MB 6.6MB/s eta 0:00:01\r\u001b[K     |██████████████████████████▋     | 1.2MB 6.6MB/s eta 0:00:01\r\u001b[K     |██████████████████████████▉     | 1.2MB 6.6MB/s eta 0:00:01\r\u001b[K     |███████████████████████████     | 1.2MB 6.6MB/s eta 0:00:01\r\u001b[K     |███████████████████████████▍    | 1.2MB 6.6MB/s eta 0:00:01\r\u001b[K     |███████████████████████████▋    | 1.2MB 6.6MB/s eta 0:00:01\r\u001b[K     |███████████████████████████▉    | 1.3MB 6.6MB/s eta 0:00:01\r\u001b[K     |████████████████████████████    | 1.3MB 6.6MB/s eta 0:00:01\r\u001b[K     |████████████████████████████▎   | 1.3MB 6.6MB/s eta 0:00:01\r\u001b[K     |████████████████████████████▌   | 1.3MB 6.6MB/s eta 0:00:01\r\u001b[K     |████████████████████████████▊   | 1.3MB 6.6MB/s eta 0:00:01\r\u001b[K     |█████████████████████████████   | 1.3MB 6.6MB/s eta 0:00:01\r\u001b[K     |█████████████████████████████▏  | 1.3MB 6.6MB/s eta 0:00:01\r\u001b[K     |█████████████████████████████▍  | 1.3MB 6.6MB/s eta 0:00:01\r\u001b[K     |█████████████████████████████▋  | 1.3MB 6.6MB/s eta 0:00:01\r\u001b[K     |█████████████████████████████▉  | 1.4MB 6.6MB/s eta 0:00:01\r\u001b[K     |██████████████████████████████  | 1.4MB 6.6MB/s eta 0:00:01\r\u001b[K     |██████████████████████████████▎ | 1.4MB 6.6MB/s eta 0:00:01\r\u001b[K     |██████████████████████████████▌ | 1.4MB 6.6MB/s eta 0:00:01\r\u001b[K     |██████████████████████████████▊ | 1.4MB 6.6MB/s eta 0:00:01\r\u001b[K     |███████████████████████████████ | 1.4MB 6.6MB/s eta 0:00:01\r\u001b[K     |███████████████████████████████▏| 1.4MB 6.6MB/s eta 0:00:01\r\u001b[K     |███████████████████████████████▍| 1.4MB 6.6MB/s eta 0:00:01\r\u001b[K     |███████████████████████████████▋| 1.4MB 6.6MB/s eta 0:00:01\r\u001b[K     |███████████████████████████████▉| 1.4MB 6.6MB/s eta 0:00:01\r\u001b[K     |████████████████████████████████| 1.5MB 6.6MB/s \n",
            "\u001b[?25hRequirement already satisfied, skipping upgrade: six in /usr/local/lib/python3.6/dist-packages (from nltk) (1.12.0)\n",
            "Building wheels for collected packages: nltk\n",
            "  Building wheel for nltk (setup.py) ... \u001b[?25l\u001b[?25hdone\n",
            "  Created wheel for nltk: filename=nltk-3.4.5-cp36-none-any.whl size=1449906 sha256=baef10ad66eabf37fd799f89d9aed5affe320b7d74af811f874722126efa0a13\n",
            "  Stored in directory: /root/.cache/pip/wheels/96/86/f6/68ab24c23f207c0077381a5e3904b2815136b879538a24b483\n",
            "Successfully built nltk\n",
            "Installing collected packages: nltk\n",
            "  Found existing installation: nltk 3.2.5\n",
            "    Uninstalling nltk-3.2.5:\n",
            "      Successfully uninstalled nltk-3.2.5\n",
            "Successfully installed nltk-3.4.5\n"
          ],
          "name": "stdout"
        }
      ]
    },
    {
      "cell_type": "markdown",
      "metadata": {
        "id": "9mNiVKdoX8BV",
        "colab_type": "text"
      },
      "source": [
        "**Mounting Google Drive**\n",
        "\n",
        "---------------\n",
        "\n"
      ]
    },
    {
      "cell_type": "code",
      "metadata": {
        "id": "elirl6hIGLh5",
        "colab_type": "code",
        "outputId": "2ed90dad-9f64-4d04-dcc3-f22823d6e62a",
        "colab": {
          "base_uri": "https://localhost:8080/",
          "height": 125
        }
      },
      "source": [
        "from google.colab import drive\n",
        "drive.mount('/content/drive')"
      ],
      "execution_count": 0,
      "outputs": [
        {
          "output_type": "stream",
          "text": [
            "Go to this URL in a browser: https://accounts.google.com/o/oauth2/auth?client_id=947318989803-6bn6qk8qdgf4n4g3pfee6491hc0brc4i.apps.googleusercontent.com&redirect_uri=urn%3aietf%3awg%3aoauth%3a2.0%3aoob&response_type=code&scope=email%20https%3a%2f%2fwww.googleapis.com%2fauth%2fdocs.test%20https%3a%2f%2fwww.googleapis.com%2fauth%2fdrive%20https%3a%2f%2fwww.googleapis.com%2fauth%2fdrive.photos.readonly%20https%3a%2f%2fwww.googleapis.com%2fauth%2fpeopleapi.readonly\n",
            "\n",
            "Enter your authorization code:\n",
            "··········\n",
            "Mounted at /content/drive\n"
          ],
          "name": "stdout"
        }
      ]
    },
    {
      "cell_type": "markdown",
      "metadata": {
        "id": "jgCkcggMYBkG",
        "colab_type": "text"
      },
      "source": [
        "**Imoprting Libraries**\n",
        "\n",
        "---\n"
      ]
    },
    {
      "cell_type": "code",
      "metadata": {
        "id": "uimuhMo5GgRP",
        "colab_type": "code",
        "colab": {}
      },
      "source": [
        "import pandas as pd\n",
        "import sklearn\n",
        "import re"
      ],
      "execution_count": 0,
      "outputs": []
    },
    {
      "cell_type": "code",
      "metadata": {
        "id": "wJT5ksfvHOMw",
        "colab_type": "code",
        "outputId": "2359c8c1-cfc0-4fd6-857d-90c3dbe01b7f",
        "colab": {
          "base_uri": "https://localhost:8080/",
          "height": 54
        }
      },
      "source": [
        "text = open('/content/drive/My Drive/Colab Notebooks/Intern_ND/elec_bill.txt').read()\n",
        "print(text)"
      ],
      "execution_count": 0,
      "outputs": [
        {
          "output_type": "stream",
          "text": [
            "Tamilnadu Generation and Distribution Corporation Limited\\nE-Receipt cum ASD Intimation Notice\\n\\n. . GIBU KURIAN\\nService No: 09288020442 Name: MATHEW\\nBill Amount: 2490 Bill Month/Year: 7/2019\\n\\n. , Monday, 1 July\\nReceipt No PGNSBI7491235 Receipt Date: 9019 20:12\\n\\nog. Bank\\nAmount Debited: 2490.0 IGAGMIJFC6\\nTransaction. No:\\n\\nBank Card Type: SBI NET BANKING\\n\\nAuthorisation.|d:\\n\\nAlready existing subsidy amount is Rs.0\\n\\nNew subsidy for 100 free units is Rs.250\\n\\nTotal subsidy is Rs.250\\n\\nReceipt issued subject to confirmation of Online payment credit in TANGEDCO's Bank account\\n\\n1 of 1 01/07/19, 8:14 pm\"\n"
          ],
          "name": "stdout"
        }
      ]
    },
    {
      "cell_type": "code",
      "metadata": {
        "id": "N5GaSOcilWnR",
        "colab_type": "code",
        "outputId": "6a08019e-fa3b-484c-aac2-81c90619fd7c",
        "colab": {
          "base_uri": "https://localhost:8080/",
          "height": 54
        }
      },
      "source": [
        "#text = re.sub(r'[?<=[A-Z]+][\\\\n+][?=[A-Z]+]', ' ',text)\n",
        "text = re.sub(r'\\\\n', ' ', text)\n",
        "text = re.sub(r':',' ', text)\n",
        "text = re.sub(r'\\.', '', text)\n",
        "text = re.sub(r'\\,', '', text)\n",
        "print(text)"
      ],
      "execution_count": 0,
      "outputs": [
        {
          "output_type": "stream",
          "text": [
            "Tamilnadu Generation and Distribution Corporation Limited E-Receipt cum ASD Intimation Notice    GIBU KURIAN Service No  09288020442 Name  MATHEW Bill Amount  2490 Bill Month/Year  7/2019    Monday 1 July Receipt No PGNSBI7491235 Receipt Date  9019 20 12  og Bank Amount Debited  24900 IGAGMIJFC6 Transaction No   Bank Card Type  SBI NET BANKING  Authorisation|d   Already existing subsidy amount is Rs0  New subsidy for 100 free units is Rs250  Total subsidy is Rs250  Receipt issued subject to confirmation of Online payment credit in TANGEDCO's Bank account  1 of 1 01/07/19 8 14 pm\"\n"
          ],
          "name": "stdout"
        }
      ]
    },
    {
      "cell_type": "markdown",
      "metadata": {
        "id": "KbOy26PxYOkA",
        "colab_type": "text"
      },
      "source": [
        "**Downloading the corpus of Bag of words**"
      ]
    },
    {
      "cell_type": "code",
      "metadata": {
        "id": "m9EW7SjiI-Rx",
        "colab_type": "code",
        "outputId": "a7983e60-7714-4489-93aa-8f84fa0ac2b9",
        "colab": {
          "base_uri": "https://localhost:8080/",
          "height": 105
        }
      },
      "source": [
        "import nltk\n",
        "nltk.download('punkt')\n",
        "nltk.download('stopwords')"
      ],
      "execution_count": 0,
      "outputs": [
        {
          "output_type": "stream",
          "text": [
            "[nltk_data] Downloading package punkt to /root/nltk_data...\n",
            "[nltk_data]   Unzipping tokenizers/punkt.zip.\n",
            "[nltk_data] Downloading package stopwords to /root/nltk_data...\n",
            "[nltk_data]   Unzipping corpora/stopwords.zip.\n"
          ],
          "name": "stdout"
        },
        {
          "output_type": "execute_result",
          "data": {
            "text/plain": [
              "True"
            ]
          },
          "metadata": {
            "tags": []
          },
          "execution_count": 6
        }
      ]
    },
    {
      "cell_type": "markdown",
      "metadata": {
        "id": "LAq3HSDRYUQE",
        "colab_type": "text"
      },
      "source": [
        "**Tokenizing the input text**\n",
        "\n",
        "---\n",
        "\n"
      ]
    },
    {
      "cell_type": "code",
      "metadata": {
        "id": "hBAlCmi2PzHP",
        "colab_type": "code",
        "outputId": "30222381-7fe2-4001-c545-f052d4733594",
        "colab": {
          "base_uri": "https://localhost:8080/",
          "height": 54
        }
      },
      "source": [
        "words = nltk.word_tokenize(text.lower())\n",
        "print(words)"
      ],
      "execution_count": 0,
      "outputs": [
        {
          "output_type": "stream",
          "text": [
            "['tamilnadu', 'generation', 'and', 'distribution', 'corporation', 'limited', 'e-receipt', 'cum', 'asd', 'intimation', 'notice', 'gibu', 'kurian', 'service', 'no', '09288020442', 'name', 'mathew', 'bill', 'amount', '2490', 'bill', 'month/year', '7/2019', 'monday', '1', 'july', 'receipt', 'no', 'pgnsbi7491235', 'receipt', 'date', '9019', '20', '12', 'og', 'bank', 'amount', 'debited', '24900', 'igagmijfc6', 'transaction', 'no', 'bank', 'card', 'type', 'sbi', 'net', 'banking', 'authorisation|d', 'already', 'existing', 'subsidy', 'amount', 'is', 'rs0', 'new', 'subsidy', 'for', '100', 'free', 'units', 'is', 'rs250', 'total', 'subsidy', 'is', 'rs250', 'receipt', 'issued', 'subject', 'to', 'confirmation', 'of', 'online', 'payment', 'credit', 'in', 'tangedco', \"'s\", 'bank', 'account', '1', 'of', '1', '01/07/19', '8', '14', 'pm', \"''\"]\n"
          ],
          "name": "stdout"
        }
      ]
    },
    {
      "cell_type": "code",
      "metadata": {
        "id": "GtqTDcAQRJQx",
        "colab_type": "code",
        "outputId": "4c230341-dc06-4713-9465-9e8943908e00",
        "colab": {
          "base_uri": "https://localhost:8080/",
          "height": 54
        }
      },
      "source": [
        "from nltk.corpus import stopwords\n",
        "stopword = stopwords.words('english')\n",
        "removing_stopwords = [word for word in words if word not in stopword]\n",
        "print(words)"
      ],
      "execution_count": 0,
      "outputs": [
        {
          "output_type": "stream",
          "text": [
            "['tamilnadu', 'generation', 'and', 'distribution', 'corporation', 'limited', 'e-receipt', 'cum', 'asd', 'intimation', 'notice', 'gibu', 'kurian', 'service', 'no', '09288020442', 'name', 'mathew', 'bill', 'amount', '2490', 'bill', 'month/year', '7/2019', 'monday', '1', 'july', 'receipt', 'no', 'pgnsbi7491235', 'receipt', 'date', '9019', '20', '12', 'og', 'bank', 'amount', 'debited', '24900', 'igagmijfc6', 'transaction', 'no', 'bank', 'card', 'type', 'sbi', 'net', 'banking', 'authorisation|d', 'already', 'existing', 'subsidy', 'amount', 'is', 'rs0', 'new', 'subsidy', 'for', '100', 'free', 'units', 'is', 'rs250', 'total', 'subsidy', 'is', 'rs250', 'receipt', 'issued', 'subject', 'to', 'confirmation', 'of', 'online', 'payment', 'credit', 'in', 'tangedco', \"'s\", 'bank', 'account', '1', 'of', '1', '01/07/19', '8', '14', 'pm', \"''\"]\n"
          ],
          "name": "stdout"
        }
      ]
    },
    {
      "cell_type": "code",
      "metadata": {
        "id": "7gkInlKOXiCt",
        "colab_type": "code",
        "outputId": "9ef839b8-cee0-4370-d037-06d683eaa929",
        "colab": {
          "base_uri": "https://localhost:8080/",
          "height": 54
        }
      },
      "source": [
        "bow=words[:25]\n",
        "print(bow)"
      ],
      "execution_count": 0,
      "outputs": [
        {
          "output_type": "stream",
          "text": [
            "['tamilnadu', 'generation', 'and', 'distribution', 'corporation', 'limited', 'e-receipt', 'cum', 'asd', 'intimation', 'notice', 'gibu', 'kurian', 'service', 'no', '09288020442', 'name', 'mathew', 'bill', 'amount', '2490', 'bill', 'month/year', '7/2019', 'monday']\n"
          ],
          "name": "stdout"
        }
      ]
    },
    {
      "cell_type": "markdown",
      "metadata": {
        "id": "T_bJroJWx4XP",
        "colab_type": "text"
      },
      "source": [
        "**Text Classification using sklearn**\n",
        "\n",
        "---\n",
        "\n"
      ]
    },
    {
      "cell_type": "code",
      "metadata": {
        "id": "f9TY2YN-JLtJ",
        "colab_type": "code",
        "outputId": "070853d6-be3b-4978-f2b9-7062362ab622",
        "colab": {
          "base_uri": "https://localhost:8080/",
          "height": 404
        }
      },
      "source": [
        "from sklearn.datasets import fetch_20newsgroups\n",
        "train_set = fetch_20newsgroups(subset = 'train', shuffle = True)\n",
        "train_set.target_names"
      ],
      "execution_count": 0,
      "outputs": [
        {
          "output_type": "stream",
          "text": [
            "Downloading 20news dataset. This may take a few minutes.\n",
            "Downloading dataset from https://ndownloader.figshare.com/files/5975967 (14 MB)\n"
          ],
          "name": "stderr"
        },
        {
          "output_type": "execute_result",
          "data": {
            "text/plain": [
              "['alt.atheism',\n",
              " 'comp.graphics',\n",
              " 'comp.os.ms-windows.misc',\n",
              " 'comp.sys.ibm.pc.hardware',\n",
              " 'comp.sys.mac.hardware',\n",
              " 'comp.windows.x',\n",
              " 'misc.forsale',\n",
              " 'rec.autos',\n",
              " 'rec.motorcycles',\n",
              " 'rec.sport.baseball',\n",
              " 'rec.sport.hockey',\n",
              " 'sci.crypt',\n",
              " 'sci.electronics',\n",
              " 'sci.med',\n",
              " 'sci.space',\n",
              " 'soc.religion.christian',\n",
              " 'talk.politics.guns',\n",
              " 'talk.politics.mideast',\n",
              " 'talk.politics.misc',\n",
              " 'talk.religion.misc']"
            ]
          },
          "metadata": {
            "tags": []
          },
          "execution_count": 10
        }
      ]
    },
    {
      "cell_type": "code",
      "metadata": {
        "id": "vBs0a6E_r5Yp",
        "colab_type": "code",
        "colab": {}
      },
      "source": [
        "from sklearn.feature_extraction.text import CountVectorizer\n",
        "from sklearn.feature_extraction.text import TfidfTransformer\n",
        "from sklearn.naive_bayes import MultinomialNB\n",
        "from sklearn.pipeline import Pipeline\n",
        "text_clf = Pipeline([('vect', CountVectorizer()),\n",
        "                     ('tfidf', TfidfTransformer()),\n",
        "                     ('clf', MultinomialNB()),])\n",
        "text_clf=text_clf.fit(train_set.data,train_set.target)"
      ],
      "execution_count": 0,
      "outputs": []
    },
    {
      "cell_type": "code",
      "metadata": {
        "id": "QJROICk5tVD_",
        "colab_type": "code",
        "outputId": "1b6bf3b4-aae3-48d8-bd1f-acb1cfdea558",
        "colab": {
          "base_uri": "https://localhost:8080/",
          "height": 34
        }
      },
      "source": [
        "import numpy as np\n",
        "test_set = fetch_20newsgroups(subset='test',shuffle=True)\n",
        "predicted = text_clf.predict(test_set.data)\n",
        "predicted"
      ],
      "execution_count": 0,
      "outputs": [
        {
          "output_type": "execute_result",
          "data": {
            "text/plain": [
              "array([ 7, 11,  0, ...,  9,  3, 15])"
            ]
          },
          "metadata": {
            "tags": []
          },
          "execution_count": 16
        }
      ]
    },
    {
      "cell_type": "code",
      "metadata": {
        "id": "9UCpDgp0uEAM",
        "colab_type": "code",
        "colab": {}
      },
      "source": [
        ""
      ],
      "execution_count": 0,
      "outputs": []
    }
  ]
}