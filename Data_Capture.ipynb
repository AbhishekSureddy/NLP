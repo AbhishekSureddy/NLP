{
  "nbformat": 4,
  "nbformat_minor": 0,
  "metadata": {
    "kernelspec": {
      "name": "python3",
      "display_name": "Python 3"
    },
    "language_info": {
      "codemirror_mode": {
        "name": "ipython",
        "version": 3
      },
      "file_extension": ".py",
      "mimetype": "text/x-python",
      "name": "python",
      "nbconvert_exporter": "python",
      "pygments_lexer": "ipython3",
      "version": "3.6.5"
    },
    "colab": {
      "name": "Data_Capture.ipynb",
      "provenance": [],
      "collapsed_sections": [],
      "include_colab_link": true
    },
    "accelerator": "GPU"
  },
  "cells": [
    {
      "cell_type": "markdown",
      "metadata": {
        "id": "view-in-github",
        "colab_type": "text"
      },
      "source": [
        "<a href=\"https://colab.research.google.com/github/sriloksagar/Intern_ND/blob/master/Data_Capture.ipynb\" target=\"_parent\"><img src=\"https://colab.research.google.com/assets/colab-badge.svg\" alt=\"Open In Colab\"/></a>"
      ]
    },
    {
      "cell_type": "markdown",
      "metadata": {
        "id": "PETrmrH8cFzx",
        "colab_type": "text"
      },
      "source": [
        "# **Generating bounding boxes and using Tesseract for the contents**"
      ]
    },
    {
      "cell_type": "markdown",
      "metadata": {
        "id": "nX29BuNBrv7V",
        "colab_type": "text"
      },
      "source": [
        "**Importing and Installing Libraries**"
      ]
    },
    {
      "cell_type": "code",
      "metadata": {
        "id": "HKzG1etSq86v",
        "colab_type": "code",
        "outputId": "13456b15-c5e0-4917-d645-8d28431b419e",
        "colab": {
          "base_uri": "https://localhost:8080/",
          "height": 210
        }
      },
      "source": [
        "!pip install tesseract\n",
        "!pip install pytesseract\n",
        "!sudo apt install tesseract-ocr"
      ],
      "execution_count": 0,
      "outputs": [
        {
          "output_type": "stream",
          "text": [
            "Requirement already satisfied: pytesseract in /usr/local/lib/python3.6/dist-packages (0.3.0)\n",
            "Requirement already satisfied: Pillow in /usr/local/lib/python3.6/dist-packages (from pytesseract) (4.3.0)\n",
            "Requirement already satisfied: olefile in /usr/local/lib/python3.6/dist-packages (from Pillow->pytesseract) (0.46)\n",
            "Reading package lists... Done\n",
            "Building dependency tree       \n",
            "Reading state information... Done\n",
            "tesseract-ocr is already the newest version (4.00~git2288-10f4998a-2).\n",
            "The following package was automatically installed and is no longer required:\n",
            "  libnvidia-common-430\n",
            "Use 'sudo apt autoremove' to remove it.\n",
            "0 upgraded, 0 newly installed, 0 to remove and 7 not upgraded.\n"
          ],
          "name": "stdout"
        }
      ]
    },
    {
      "cell_type": "code",
      "metadata": {
        "id": "NuF8LGvXr_fh",
        "colab_type": "code",
        "colab": {}
      },
      "source": [
        "import cv2\n",
        "import numpy as np\n",
        "import matplotlib.pyplot as plt\n",
        "%matplotlib inline\n",
        "from scipy import ndimage\n",
        "import pandas as pd\n",
        "from PIL import Image"
      ],
      "execution_count": 0,
      "outputs": []
    },
    {
      "cell_type": "code",
      "metadata": {
        "id": "sw5Wng72rAql",
        "colab_type": "code",
        "colab": {}
      },
      "source": [
        "from PIL import Image\n",
        "import pytesseract"
      ],
      "execution_count": 0,
      "outputs": []
    },
    {
      "cell_type": "markdown",
      "metadata": {
        "id": "UhmhMyfDr04E",
        "colab_type": "text"
      },
      "source": [
        "**Mounting Google Drive for importing files**"
      ]
    },
    {
      "cell_type": "code",
      "metadata": {
        "id": "sOdKjuJNshDj",
        "colab_type": "code",
        "outputId": "daf16eb8-1129-4cee-a97b-8b6bb5bd9f78",
        "colab": {
          "base_uri": "https://localhost:8080/",
          "height": 34
        }
      },
      "source": [
        "from google.colab import drive\n",
        "drive.mount('/content/drive')"
      ],
      "execution_count": 0,
      "outputs": [
        {
          "output_type": "stream",
          "text": [
            "Drive already mounted at /content/drive; to attempt to forcibly remount, call drive.mount(\"/content/drive\", force_remount=True).\n"
          ],
          "name": "stdout"
        }
      ]
    },
    {
      "cell_type": "markdown",
      "metadata": {
        "id": "NsHyu5BSr9CU",
        "colab_type": "text"
      },
      "source": [
        "**Reading the files**"
      ]
    },
    {
      "cell_type": "code",
      "metadata": {
        "id": "Dk8YH_yer_fk",
        "colab_type": "code",
        "colab": {}
      },
      "source": [
        "img=cv2.imread('/content/drive/My Drive/Colab Notebooks/Intern_ND/EB_July2019.jpg')\n",
        "image=cv2.cvtColor(img,cv2.COLOR_BGR2GRAY)\n",
        "\n",
        "table = pd.read_excel('/content/drive/My Drive/Colab Notebooks/Intern_ND/Dimensions.xlsx')"
      ],
      "execution_count": 0,
      "outputs": []
    },
    {
      "cell_type": "markdown",
      "metadata": {
        "id": "fUCU7Cm3pRas",
        "colab_type": "text"
      },
      "source": [
        "**Function for returning the desired region**"
      ]
    },
    {
      "cell_type": "code",
      "metadata": {
        "id": "-tToovzPc9Gj",
        "colab_type": "code",
        "colab": {}
      },
      "source": [
        "def Find(text):\n",
        "    for i in range(len(table['Object'])):\n",
        "        if table['Object'][i]==text:\n",
        "            up = table['up'][i]\n",
        "            down = table['down'][i]\n",
        "            left = table['left'][i]\n",
        "            right = table['right'][i]\n",
        "    boxed_image = image[up:down,left:right]\n",
        "    plot = Image.fromarray(boxed_image)\n",
        "    return plot"
      ],
      "execution_count": 0,
      "outputs": []
    },
    {
      "cell_type": "code",
      "metadata": {
        "id": "r7U7RpyntsZL",
        "colab_type": "code",
        "outputId": "c211e560-7e2f-4f1b-9744-7b393db3f86b",
        "colab": {
          "base_uri": "https://localhost:8080/",
          "height": 137
        }
      },
      "source": [
        "region=Find('Receipt No')\n",
        "region"
      ],
      "execution_count": 0,
      "outputs": [
        {
          "output_type": "execute_result",
          "data": {
            "image/png": "[encoded data removed]",
            "text/plain": [
              "<PIL.Image.Image image mode=L size=300x120 at 0x7F1952D56278>"
            ]
          },
          "metadata": {
            "tags": []
          },
          "execution_count": 30
        }
      ]
    },
    {
      "cell_type": "markdown",
      "metadata": {
        "id": "9W9bTEq5r_fq",
        "colab_type": "text"
      },
      "source": [
        "**Extracting text from region using Tesseract**\n",
        "\n"
      ]
    },
    {
      "cell_type": "code",
      "metadata": {
        "id": "5YwzGkPLr_fz",
        "colab_type": "code",
        "outputId": "3a258e2d-9288-46e8-e320-647cd7255307",
        "colab": {
          "base_uri": "https://localhost:8080/",
          "height": 404
        }
      },
      "source": [
        "for j in table['Object']:\n",
        "    text = pytesseract.image_to_string(Find(j))\n",
        "    print(j,text,'\\n')"
      ],
      "execution_count": 0,
      "outputs": [
        {
          "output_type": "stream",
          "text": [
            "Service No 09288020442 \n",
            "\n",
            "Name GIBU KURIAN\n",
            "MATHEW \n",
            "\n",
            "Bill Amount 2490 \n",
            "\n",
            "Bill Month /Year 7/2019 \n",
            "\n",
            "Receipt No PGNSBI7491235 \n",
            "\n",
            "Receipt Date Monday, 1 July\n",
            "2019 20:12 \n",
            "\n",
            "Amount Debited 2490.0 \n",
            "\n",
            "Bank Transaction No IGAGMIJFC6 \n",
            "\n",
            "Bank Authorisation Id  \n",
            "\n",
            "Card Type SBI NET BANKING \n",
            "\n"
          ],
          "name": "stdout"
        }
      ]
    },
    {
      "cell_type": "code",
      "metadata": {
        "id": "IIZBZ-WO5b8b",
        "colab_type": "code",
        "colab": {}
      },
      "source": [
        "text = pytesseract.image_to_string(Find(j))\n",
        "    print(j,text,'\\n')"
      ],
      "execution_count": 0,
      "outputs": []
    },
    {
      "cell_type": "code",
      "metadata": {
        "id": "A0UXsbFx5ubg",
        "colab_type": "code",
        "colab": {}
      },
      "source": [
        ""
      ],
      "execution_count": 0,
      "outputs": []
    },
    {
      "cell_type": "code",
      "metadata": {
        "id": "8LJzilTa6jwe",
        "colab_type": "code",
        "colab": {}
      },
      "source": [
        ""
      ],
      "execution_count": 0,
      "outputs": []
    }
  ]
}