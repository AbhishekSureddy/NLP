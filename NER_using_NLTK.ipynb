{
  "nbformat": 4,
  "nbformat_minor": 0,
  "metadata": {
    "colab": {
      "name": "NER_using_NLTK.ipynb",
      "provenance": [],
      "collapsed_sections": [],
      "include_colab_link": true
    },
    "kernelspec": {
      "name": "python3",
      "display_name": "Python 3"
    },
    "accelerator": "GPU"
  },
  "cells": [
    {
      "cell_type": "markdown",
      "metadata": {
        "id": "view-in-github",
        "colab_type": "text"
      },
      "source": [
        "<a href=\"https://colab.research.google.com/github/sriloksagar/Intern_ND/blob/master/NER_using_NLTK.ipynb\" target=\"_parent\"><img src=\"https://colab.research.google.com/assets/colab-badge.svg\" alt=\"Open In Colab\"/></a>"
      ]
    },
    {
      "cell_type": "markdown",
      "metadata": {
        "id": "x9dBSKVHcwRF",
        "colab_type": "text"
      },
      "source": [
        "**Importing libraries**"
      ]
    },
    {
      "cell_type": "code",
      "metadata": {
        "id": "hFJTyXKFuGxW",
        "colab_type": "code",
        "colab": {}
      },
      "source": [
        "import nltk\n",
        "from nltk.tag import pos_tag\n",
        "from nltk import WordPunctTokenizer\n",
        "from nltk import TreebankWordTokenizer\n",
        "import pandas as pd\n",
        "import sklearn"
      ],
      "execution_count": 0,
      "outputs": []
    },
    {
      "cell_type": "markdown",
      "metadata": {
        "id": "PN5QemvTc1lF",
        "colab_type": "text"
      },
      "source": [
        "**Specify filepath**"
      ]
    },
    {
      "cell_type": "code",
      "metadata": {
        "id": "zPDHpldRxGs8",
        "colab_type": "code",
        "colab": {}
      },
      "source": [
        "#from google.colab import drive\n",
        "#drive.mount('/content/drive')"
      ],
      "execution_count": 0,
      "outputs": []
    },
    {
      "cell_type": "markdown",
      "metadata": {
        "id": "7J8q3yPyc7Jc",
        "colab_type": "text"
      },
      "source": [
        "**Sample file**"
      ]
    },
    {
      "cell_type": "code",
      "metadata": {
        "id": "7doswEIayatc",
        "colab_type": "code",
        "outputId": "e2016dba-b35c-4f91-a0cc-a0f041a9ef87",
        "colab": {
          "base_uri": "https://localhost:8080/",
          "height": 54
        }
      },
      "source": [
        "page = 'It has fed new divisions in the society and a harsh English nationalism that threatens the future of the kingdom, with both Scotland and Northern Ireland deeply troubled about leaving the European Union and doubtful about the bright radiant future the Brexiteers blithely prophesy'\n",
        "print(page)"
      ],
      "execution_count": 0,
      "outputs": [
        {
          "output_type": "stream",
          "text": [
            "It has fed new divisions in the society and a harsh English nationalism that threatens the future of the kingdom, with both Scotland and Northern Ireland deeply troubled about leaving the European Union and doubtful about the bright radiant future the Brexiteers blithely prophesy\n"
          ],
          "name": "stdout"
        }
      ]
    },
    {
      "cell_type": "markdown",
      "metadata": {
        "id": "5OkYChzadYXl",
        "colab_type": "text"
      },
      "source": [
        "**Downloading corpus for stopwords, punctuation marks removal**"
      ]
    },
    {
      "cell_type": "code",
      "metadata": {
        "id": "pHh4o1d-0o8x",
        "colab_type": "code",
        "outputId": "f6a241f0-ecd7-4ab9-ba66-cf302f63b260",
        "colab": {
          "base_uri": "https://localhost:8080/",
          "height": 140
        }
      },
      "source": [
        "nltk.download('punkt')\n",
        "stopword = nltk.download('stopwords')\n",
        "nltk.download('averaged_perceptron_tagger')\n",
        "def NER(page):\n",
        "    page = nltk.word_tokenize(page)\n",
        "    page = nltk.pos_tag(page)\n",
        "    return page"
      ],
      "execution_count": 0,
      "outputs": [
        {
          "output_type": "stream",
          "text": [
            "[nltk_data] Downloading package punkt to /root/nltk_data...\n",
            "[nltk_data]   Unzipping tokenizers/punkt.zip.\n",
            "[nltk_data] Downloading package stopwords to /root/nltk_data...\n",
            "[nltk_data]   Unzipping corpora/stopwords.zip.\n",
            "[nltk_data] Downloading package averaged_perceptron_tagger to\n",
            "[nltk_data]     /root/nltk_data...\n",
            "[nltk_data]   Unzipping taggers/averaged_perceptron_tagger.zip.\n"
          ],
          "name": "stdout"
        }
      ]
    },
    {
      "cell_type": "markdown",
      "metadata": {
        "id": "AAzp0xQ5djfh",
        "colab_type": "text"
      },
      "source": [
        "**Parts of Speech tagging**"
      ]
    },
    {
      "cell_type": "code",
      "metadata": {
        "id": "2B1kFhZN1sXu",
        "colab_type": "code",
        "outputId": "98ccb64a-000a-4ba9-ad49-8a057d092fcd",
        "colab": {
          "base_uri": "https://localhost:8080/",
          "height": 809
        }
      },
      "source": [
        "pos = NER(page)\n",
        "pos"
      ],
      "execution_count": 0,
      "outputs": [
        {
          "output_type": "execute_result",
          "data": {
            "text/plain": [
              "[('It', 'PRP'),\n",
              " ('has', 'VBZ'),\n",
              " ('fed', 'VBN'),\n",
              " ('new', 'JJ'),\n",
              " ('divisions', 'NNS'),\n",
              " ('in', 'IN'),\n",
              " ('the', 'DT'),\n",
              " ('society', 'NN'),\n",
              " ('and', 'CC'),\n",
              " ('a', 'DT'),\n",
              " ('harsh', 'JJ'),\n",
              " ('English', 'JJ'),\n",
              " ('nationalism', 'NN'),\n",
              " ('that', 'WDT'),\n",
              " ('threatens', 'VBZ'),\n",
              " ('the', 'DT'),\n",
              " ('future', 'NN'),\n",
              " ('of', 'IN'),\n",
              " ('the', 'DT'),\n",
              " ('kingdom', 'NN'),\n",
              " (',', ','),\n",
              " ('with', 'IN'),\n",
              " ('both', 'DT'),\n",
              " ('Scotland', 'NNP'),\n",
              " ('and', 'CC'),\n",
              " ('Northern', 'NNP'),\n",
              " ('Ireland', 'NNP'),\n",
              " ('deeply', 'RB'),\n",
              " ('troubled', 'VBD'),\n",
              " ('about', 'IN'),\n",
              " ('leaving', 'VBG'),\n",
              " ('the', 'DT'),\n",
              " ('European', 'NNP'),\n",
              " ('Union', 'NNP'),\n",
              " ('and', 'CC'),\n",
              " ('doubtful', 'JJ'),\n",
              " ('about', 'IN'),\n",
              " ('the', 'DT'),\n",
              " ('bright', 'JJ'),\n",
              " ('radiant', 'JJ'),\n",
              " ('future', 'NN'),\n",
              " ('the', 'DT'),\n",
              " ('Brexiteers', 'NNP'),\n",
              " ('blithely', 'RB'),\n",
              " ('prophesy', 'VBD')]"
            ]
          },
          "metadata": {
            "tags": []
          },
          "execution_count": 5
        }
      ]
    },
    {
      "cell_type": "markdown",
      "metadata": {
        "id": "tGXDIQIvdmyc",
        "colab_type": "text"
      },
      "source": [
        "**Specifying words with which tags are supposed to be present**"
      ]
    },
    {
      "cell_type": "code",
      "metadata": {
        "id": "ovIpR1ZWxslc",
        "colab_type": "code",
        "outputId": "df352e51-a799-4654-c5d3-38e349271f4d",
        "colab": {
          "base_uri": "https://localhost:8080/",
          "height": 351
        }
      },
      "source": [
        "new = [i for i in pos if (i[1]=='DT' or i[1]=='NN' or i[1]=='JJ')]\n",
        "new"
      ],
      "execution_count": 0,
      "outputs": [
        {
          "output_type": "execute_result",
          "data": {
            "text/plain": [
              "[('new', 'JJ'),\n",
              " ('the', 'DT'),\n",
              " ('society', 'NN'),\n",
              " ('a', 'DT'),\n",
              " ('harsh', 'JJ'),\n",
              " ('English', 'JJ'),\n",
              " ('nationalism', 'NN'),\n",
              " ('the', 'DT'),\n",
              " ('future', 'NN'),\n",
              " ('the', 'DT'),\n",
              " ('kingdom', 'NN'),\n",
              " ('both', 'DT'),\n",
              " ('the', 'DT'),\n",
              " ('doubtful', 'JJ'),\n",
              " ('the', 'DT'),\n",
              " ('bright', 'JJ'),\n",
              " ('radiant', 'JJ'),\n",
              " ('future', 'NN'),\n",
              " ('the', 'DT')]"
            ]
          },
          "metadata": {
            "tags": []
          },
          "execution_count": 6
        }
      ]
    },
    {
      "cell_type": "markdown",
      "metadata": {
        "id": "8zo9pldBdu69",
        "colab_type": "text"
      },
      "source": [
        "**Or else we can have a Regular Expression**"
      ]
    },
    {
      "cell_type": "code",
      "metadata": {
        "id": "aK0memJt3hNX",
        "colab_type": "code",
        "colab": {}
      },
      "source": [
        "pattern = r'NP:{<DT>+?<NN>+<JJ>+}'"
      ],
      "execution_count": 0,
      "outputs": []
    },
    {
      "cell_type": "markdown",
      "metadata": {
        "id": "nrhEh7TKd1X1",
        "colab_type": "text"
      },
      "source": [
        "**Breaking down the text into sentences based on the Regex**"
      ]
    },
    {
      "cell_type": "code",
      "metadata": {
        "id": "fBZmM3Lb46-q",
        "colab_type": "code",
        "outputId": "ff89df05-c7ff-4c6c-e0af-95c15918d2f6",
        "colab": {
          "base_uri": "https://localhost:8080/",
          "height": 369
        }
      },
      "source": [
        "chunk = nltk.RegexpParser(pattern)\n",
        "cs = chunk.parse(new)\n",
        "#for i in range(len(cs)):\n",
        " #   if len(cs[i])==2:\n",
        "  #      print(cs[i])\n",
        "print(cs)"
      ],
      "execution_count": 0,
      "outputs": [
        {
          "output_type": "stream",
          "text": [
            "(S\n",
            "  new/JJ\n",
            "  the/DT\n",
            "  society/NN\n",
            "  a/DT\n",
            "  harsh/JJ\n",
            "  English/JJ\n",
            "  nationalism/NN\n",
            "  the/DT\n",
            "  future/NN\n",
            "  the/DT\n",
            "  kingdom/NN\n",
            "  both/DT\n",
            "  the/DT\n",
            "  doubtful/JJ\n",
            "  the/DT\n",
            "  bright/JJ\n",
            "  radiant/JJ\n",
            "  future/NN\n",
            "  the/DT)\n"
          ],
          "name": "stdout"
        }
      ]
    }
  ]
}